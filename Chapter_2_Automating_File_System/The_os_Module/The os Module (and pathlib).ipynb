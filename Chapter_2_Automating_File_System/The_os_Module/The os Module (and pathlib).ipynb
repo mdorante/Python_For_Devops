{
 "cells": [
  {
   "cell_type": "code",
   "execution_count": 1,
   "metadata": {},
   "outputs": [
    {
     "data": {
      "text/plain": [
       "['The os Module.ipynb', 'test1', '.ipynb_checkpoints']"
      ]
     },
     "execution_count": 1,
     "metadata": {},
     "output_type": "execute_result"
    }
   ],
   "source": [
    "import os\n",
    "\n",
    "# List the contents of a directory\n",
    "os.listdir('.')"
   ]
  },
  {
   "cell_type": "code",
   "execution_count": 15,
   "metadata": {},
   "outputs": [
    {
     "data": {
      "text/plain": [
       "['test_file.txt']"
      ]
     },
     "execution_count": 15,
     "metadata": {},
     "output_type": "execute_result"
    }
   ],
   "source": [
    "os.listdir('test/')"
   ]
  },
  {
   "cell_type": "code",
   "execution_count": 16,
   "metadata": {},
   "outputs": [],
   "source": [
    "# Rename a file or directory\n",
    "os.rename('test', 'test1')"
   ]
  },
  {
   "cell_type": "code",
   "execution_count": 20,
   "metadata": {},
   "outputs": [
    {
     "name": "stdout",
     "output_type": "stream",
     "text": [
      "total 0\r\n",
      "-rwxrwxrwx 1 root root 0 May 22 01:41 test_file.txt\r\n"
     ]
    }
   ],
   "source": [
    "!ls -l test1"
   ]
  },
  {
   "cell_type": "code",
   "execution_count": 18,
   "metadata": {},
   "outputs": [],
   "source": [
    "# Change the permissions of a file or directory\n",
    "os.chmod('test1/test_file.txt', 0o777)"
   ]
  },
  {
   "cell_type": "code",
   "execution_count": 3,
   "metadata": {},
   "outputs": [],
   "source": [
    "# create a directory\n",
    "os.mkdir('test2')"
   ]
  },
  {
   "cell_type": "code",
   "execution_count": 4,
   "metadata": {},
   "outputs": [
    {
     "name": "stdout",
     "output_type": "stream",
     "text": [
      "total 8\r\n",
      "-rw-r--r--  1 mmmanueg  1896053708  2074 May 24 21:17 The os Module.ipynb\r\n",
      "drwxr-xr-x  3 mmmanueg  1896053708    96 May 21 22:41 \u001b[1m\u001b[36mtest1\u001b[m\u001b[m\r\n",
      "drwxr-xr-x  2 mmmanueg  1896053708    64 May 24 21:17 \u001b[1m\u001b[36mtest2\u001b[m\u001b[m\r\n"
     ]
    }
   ],
   "source": [
    "!ls -l"
   ]
  },
  {
   "cell_type": "code",
   "execution_count": 5,
   "metadata": {},
   "outputs": [],
   "source": [
    "# make a directory path\n",
    "os.makedirs('test3/new/dir/path')"
   ]
  },
  {
   "cell_type": "code",
   "execution_count": 6,
   "metadata": {},
   "outputs": [
    {
     "name": "stdout",
     "output_type": "stream",
     "text": [
      "total 8\r\n",
      "-rw-r--r--  1 mmmanueg  1896053708  2074 May 24 21:17 The os Module.ipynb\r\n",
      "drwxr-xr-x  3 mmmanueg  1896053708    96 May 21 22:41 \u001b[1m\u001b[36mtest1\u001b[m\u001b[m\r\n",
      "drwxr-xr-x  2 mmmanueg  1896053708    64 May 24 21:17 \u001b[1m\u001b[36mtest2\u001b[m\u001b[m\r\n",
      "drwxr-xr-x  3 mmmanueg  1896053708    96 May 24 21:18 \u001b[1m\u001b[36mtest3\u001b[m\u001b[m\r\n",
      "\r\n",
      "./test1:\r\n",
      "total 0\r\n",
      "-rwxrwxrwx  1 mmmanueg  1896053708  0 May 21 22:41 \u001b[31mtest_file.txt\u001b[m\u001b[m\r\n",
      "\r\n",
      "./test2:\r\n",
      "\r\n",
      "./test3:\r\n",
      "total 0\r\n",
      "drwxr-xr-x  3 mmmanueg  1896053708  96 May 24 21:18 \u001b[1m\u001b[36mnew\u001b[m\u001b[m\r\n",
      "\r\n",
      "./test3/new:\r\n",
      "total 0\r\n",
      "drwxr-xr-x  3 mmmanueg  1896053708  96 May 24 21:18 \u001b[1m\u001b[36mdir\u001b[m\u001b[m\r\n",
      "\r\n",
      "./test3/new/dir:\r\n",
      "total 0\r\n",
      "drwxr-xr-x  2 mmmanueg  1896053708  64 May 24 21:18 \u001b[1m\u001b[36mpath\u001b[m\u001b[m\r\n",
      "\r\n",
      "./test3/new/dir/path:\r\n"
     ]
    }
   ],
   "source": [
    "!ls -lR"
   ]
  },
  {
   "cell_type": "code",
   "execution_count": 8,
   "metadata": {},
   "outputs": [],
   "source": [
    "# delete a file\n",
    "os.remove('test1/test_file.txt')"
   ]
  },
  {
   "cell_type": "code",
   "execution_count": 10,
   "metadata": {},
   "outputs": [
    {
     "name": "stdout",
     "output_type": "stream",
     "text": [
      "total 16\r\n",
      "-rw-r--r--  1 mmmanueg  1896053708  4494 May 24 21:21 The os Module.ipynb\r\n",
      "drwxr-xr-x  2 mmmanueg  1896053708    64 May 24 21:21 \u001b[1m\u001b[36mtest1\u001b[m\u001b[m\r\n",
      "drwxr-xr-x  2 mmmanueg  1896053708    64 May 24 21:17 \u001b[1m\u001b[36mtest2\u001b[m\u001b[m\r\n",
      "drwxr-xr-x  3 mmmanueg  1896053708    96 May 24 21:18 \u001b[1m\u001b[36mtest3\u001b[m\u001b[m\r\n",
      "\r\n",
      "./test1:\r\n",
      "\r\n",
      "./test2:\r\n",
      "\r\n",
      "./test3:\r\n",
      "total 0\r\n",
      "drwxr-xr-x  3 mmmanueg  1896053708  96 May 24 21:18 \u001b[1m\u001b[36mnew\u001b[m\u001b[m\r\n",
      "\r\n",
      "./test3/new:\r\n",
      "total 0\r\n",
      "drwxr-xr-x  3 mmmanueg  1896053708  96 May 24 21:18 \u001b[1m\u001b[36mdir\u001b[m\u001b[m\r\n",
      "\r\n",
      "./test3/new/dir:\r\n",
      "total 0\r\n",
      "drwxr-xr-x  2 mmmanueg  1896053708  64 May 24 21:18 \u001b[1m\u001b[36mpath\u001b[m\u001b[m\r\n",
      "\r\n",
      "./test3/new/dir/path:\r\n"
     ]
    }
   ],
   "source": [
    "!ls -lR"
   ]
  },
  {
   "cell_type": "code",
   "execution_count": 11,
   "metadata": {},
   "outputs": [],
   "source": [
    "# remove a directory\n",
    "os.rmdir('test1')"
   ]
  },
  {
   "cell_type": "code",
   "execution_count": 12,
   "metadata": {},
   "outputs": [
    {
     "name": "stdout",
     "output_type": "stream",
     "text": [
      "total 16\r\n",
      "-rw-r--r--  1 mmmanueg  1896053708  5764 May 24 21:23 The os Module.ipynb\r\n",
      "drwxr-xr-x  2 mmmanueg  1896053708    64 May 24 21:17 \u001b[1m\u001b[36mtest2\u001b[m\u001b[m\r\n",
      "drwxr-xr-x  3 mmmanueg  1896053708    96 May 24 21:18 \u001b[1m\u001b[36mtest3\u001b[m\u001b[m\r\n",
      "\r\n",
      "./test2:\r\n",
      "\r\n",
      "./test3:\r\n",
      "total 0\r\n",
      "drwxr-xr-x  3 mmmanueg  1896053708  96 May 24 21:18 \u001b[1m\u001b[36mnew\u001b[m\u001b[m\r\n",
      "\r\n",
      "./test3/new:\r\n",
      "total 0\r\n",
      "drwxr-xr-x  3 mmmanueg  1896053708  96 May 24 21:18 \u001b[1m\u001b[36mdir\u001b[m\u001b[m\r\n",
      "\r\n",
      "./test3/new/dir:\r\n",
      "total 0\r\n",
      "drwxr-xr-x  2 mmmanueg  1896053708  64 May 24 21:18 \u001b[1m\u001b[36mpath\u001b[m\u001b[m\r\n",
      "\r\n",
      "./test3/new/dir/path:\r\n"
     ]
    }
   ],
   "source": [
    "!ls -lR"
   ]
  },
  {
   "cell_type": "code",
   "execution_count": 13,
   "metadata": {},
   "outputs": [],
   "source": [
    "# remove directories recursively\n",
    "os.removedirs('test3/new/dir/path/')"
   ]
  },
  {
   "cell_type": "code",
   "execution_count": 14,
   "metadata": {},
   "outputs": [
    {
     "name": "stdout",
     "output_type": "stream",
     "text": [
      "total 16\r\n",
      "-rw-r--r--  1 mmmanueg  1896053708  7261 May 24 21:51 The os Module.ipynb\r\n",
      "drwxr-xr-x  2 mmmanueg  1896053708    64 May 24 21:17 \u001b[1m\u001b[36mtest2\u001b[m\u001b[m\r\n",
      "\r\n",
      "./test2:\r\n"
     ]
    }
   ],
   "source": [
    "!ls -lR"
   ]
  },
  {
   "cell_type": "code",
   "execution_count": 15,
   "metadata": {},
   "outputs": [
    {
     "data": {
      "text/plain": [
       "os.stat_result(st_mode=16877, st_ino=12362971, st_dev=16777220, st_nlink=2, st_uid=709393791, st_gid=1896053708, st_size=64, st_atime=1590367901, st_mtime=1590365872, st_ctime=1590365872)"
      ]
     },
     "execution_count": 15,
     "metadata": {},
     "output_type": "execute_result"
    }
   ],
   "source": [
    "# get stats about a file or directory\n",
    "os.stat('test2/')"
   ]
  },
  {
   "cell_type": "markdown",
   "metadata": {},
   "source": [
    "## Managing files and directories using os.path"
   ]
  },
  {
   "cell_type": "code",
   "execution_count": 26,
   "metadata": {},
   "outputs": [],
   "source": [
    "# get current working directory\n",
    "pwd = os.getcwd()"
   ]
  },
  {
   "cell_type": "code",
   "execution_count": 27,
   "metadata": {},
   "outputs": [
    {
     "data": {
      "text/plain": [
       "'/Users/mmmanueg/GitHub/Dev/Python/Python_For_DevOps/Chapter_2_Automating_File_System/The_os_Module'"
      ]
     },
     "execution_count": 27,
     "metadata": {},
     "output_type": "execute_result"
    }
   ],
   "source": [
    "pwd"
   ]
  },
  {
   "cell_type": "code",
   "execution_count": 28,
   "metadata": {},
   "outputs": [
    {
     "data": {
      "text/plain": [
       "('/Users/mmmanueg/GitHub/Dev/Python/Python_For_DevOps/Chapter_2_Automating_File_System',\n",
       " 'The_os_Module')"
      ]
     },
     "execution_count": 28,
     "metadata": {},
     "output_type": "execute_result"
    }
   ],
   "source": [
    "# split the lowest level of pwd from the rest of the path\n",
    "os.path.split(pwd)"
   ]
  },
  {
   "cell_type": "code",
   "execution_count": 29,
   "metadata": {},
   "outputs": [
    {
     "data": {
      "text/plain": [
       "'/Users/mmmanueg/GitHub/Dev/Python/Python_For_DevOps/Chapter_2_Automating_File_System'"
      ]
     },
     "execution_count": 29,
     "metadata": {},
     "output_type": "execute_result"
    }
   ],
   "source": [
    "# return the path of the parent directory\n",
    "os.path.dirname(pwd)"
   ]
  },
  {
   "cell_type": "code",
   "execution_count": 30,
   "metadata": {},
   "outputs": [
    {
     "data": {
      "text/plain": [
       "'The_os_Module'"
      ]
     },
     "execution_count": 30,
     "metadata": {},
     "output_type": "execute_result"
    }
   ],
   "source": [
    "# return the lowest level of pwd\n",
    "os.path.basename(pwd)"
   ]
  },
  {
   "cell_type": "code",
   "execution_count": 31,
   "metadata": {},
   "outputs": [
    {
     "name": "stdout",
     "output_type": "stream",
     "text": [
      "/Users/mmmanueg/GitHub/Dev/Python/Python_For_DevOps/Chapter_2_Automating_File_System\n",
      "/Users/mmmanueg/GitHub/Dev/Python/Python_For_DevOps\n",
      "/Users/mmmanueg/GitHub/Dev/Python\n",
      "/Users/mmmanueg/GitHub/Dev\n",
      "/Users/mmmanueg/GitHub\n",
      "/Users/mmmanueg\n",
      "/Users\n",
      "/\n"
     ]
    }
   ],
   "source": [
    "# Walk up a directory tree\n",
    "while os.path.basename(pwd):\n",
    "    pwd = os.path.dirname(pwd)\n",
    "    print(pwd)"
   ]
  },
  {
   "cell_type": "markdown",
   "metadata": {},
   "source": [
    "## Function that finds an .rc file\n",
    "\n",
    "These are common in UNIX systems, i.e. ```.vimrc```, ```.zshrc```"
   ]
  },
  {
   "cell_type": "code",
   "execution_count": 6,
   "metadata": {},
   "outputs": [
    {
     "name": "stdout",
     "output_type": "stream",
     "text": [
      "import os\r\n",
      "\r\n",
      "def find_rc(rc_name='.examplerc'):\r\n",
      "\r\n",
      "    # Check for ENV variable\r\n",
      "    var_name = 'EXAMPLE_RC_DIR'\r\n",
      "    if var_name in os.environ:\r\n",
      "        var_path = os.path.join(f'${EXAMPLE_RC_DIR}', rc_name)\r\n",
      "        config_path = os.path.expandvars(var_path)\r\n",
      "        print(f'Checking {config_path}')\r\n",
      "        if os.path.exists(config_path):\r\n",
      "            return config_path\r\n",
      "\r\n",
      "    # Check current working directory\r\n",
      "    config_path = os.path.join(os.getcwd(), rc_name)\r\n",
      "    print(f'Checking {config_path}')\r\n",
      "    if os.path.exists(config_path):\r\n",
      "        return config_path\r\n",
      "\r\n",
      "    # Check user's home directory\r\n",
      "    home_dir = os.path.expanduser('~/')\r\n",
      "    config_path = os.path.join(home_dir, rc_name)\r\n",
      "    print(f'Checking {config_path}')\r\n",
      "    if os.path.exists(config_path):\r\n",
      "        return config_path\r\n",
      "\r\n",
      "    # Check directory of this file\r\n",
      "    file_path = os.path.abspath(__file__)\r\n",
      "    parent_path = os.path.dirname(file_path)\r\n",
      "    config_path = os.path.join(parent_path, rc_name)\r\n",
      "    print(f'Checking {config_path}')\r\n",
      "    if os.path.exists(config_path):\r\n",
      "        return config_path\r\n",
      "\r\n",
      "    print(f'File {rc_name} has not been found')\r\n",
      "\r\n",
      "if __name__ == '__main__':\r\n",
      "    find_rc()\r\n"
     ]
    }
   ],
   "source": [
    "!cat find_rc_os.py"
   ]
  },
  {
   "cell_type": "code",
   "execution_count": 8,
   "metadata": {},
   "outputs": [
    {
     "name": "stdout",
     "output_type": "stream",
     "text": [
      "Checking /Users/mmmanueg/GitHub/Dev/Python/Python_For_DevOps/Chapter_2_Automating_File_System/The_os_Module/.examplerc\r\n",
      "Checking /Users/mmmanueg/.examplerc\r\n",
      "Checking /Users/mmmanueg/GitHub/Dev/Python/Python_For_DevOps/Chapter_2_Automating_File_System/The_os_Module/.examplerc\r\n",
      "File .examplerc has not been found\r\n"
     ]
    }
   ],
   "source": [
    "!python find_rc_os.py"
   ]
  },
  {
   "cell_type": "markdown",
   "metadata": {},
   "source": [
    "## Use path to walk down a directory tree and report the size and last access time of each file found"
   ]
  },
  {
   "cell_type": "code",
   "execution_count": 40,
   "metadata": {},
   "outputs": [
    {
     "name": "stdout",
     "output_type": "stream",
     "text": [
      "import os\r\n",
      "import fire\r\n",
      "\r\n",
      "\r\n",
      "def walk_path(parent_path):\r\n",
      "    print(f'Checking: {parent_path}')\r\n",
      "    childs = os.listdir(parent_path)\r\n",
      "\r\n",
      "    for child in childs:\r\n",
      "        child_path = os.path.join(parent_path, child)\r\n",
      "        if os.path.isfile(child_path):\r\n",
      "            last_access = os.path.getatime(child_path)\r\n",
      "            size = os.path.getsize(child_path)\r\n",
      "            print(f'File: {child_path}')\r\n",
      "            print(f'\\tlast accessed: {last_access}')\r\n",
      "            print(f'\\tsize: {size}')\r\n",
      "        elif os.path.isdir(child_path):\r\n",
      "            walk_path(child_path)\r\n",
      "\r\n",
      "\r\n",
      "if __name__ == '__main__':\r\n",
      "    fire.Fire(walk_path)\r\n"
     ]
    }
   ],
   "source": [
    "!cat walk_path.py"
   ]
  },
  {
   "cell_type": "code",
   "execution_count": 41,
   "metadata": {},
   "outputs": [
    {
     "name": "stdout",
     "output_type": "stream",
     "text": [
      "Checking: /Users/mmmanueg/GitLab/Exercism/\r\n",
      "Checking: /Users/mmmanueg/GitLab/Exercism/python\r\n",
      "Checking: /Users/mmmanueg/GitLab/Exercism/python/two-fer\r\n",
      "Checking: /Users/mmmanueg/GitLab/Exercism/python/two-fer/.exercism\r\n",
      "File: /Users/mmmanueg/GitLab/Exercism/python/two-fer/.exercism/metadata.json\r\n",
      "\tlast accessed: 1590284221.2634602\r\n",
      "\tsize: 214\r\n",
      "Checking: /Users/mmmanueg/GitLab/Exercism/python/two-fer/.pytest_cache\r\n",
      "File: /Users/mmmanueg/GitLab/Exercism/python/two-fer/.pytest_cache/CACHEDIR.TAG\r\n",
      "\tlast accessed: 1590284221.2631247\r\n",
      "\tsize: 194\r\n",
      "File: /Users/mmmanueg/GitLab/Exercism/python/two-fer/.pytest_cache/README.md\r\n",
      "\tlast accessed: 1590284221.2627366\r\n",
      "\tsize: 295\r\n",
      "File: /Users/mmmanueg/GitLab/Exercism/python/two-fer/.pytest_cache/.gitignore\r\n",
      "\tlast accessed: 1590284221.262505\r\n",
      "\tsize: 37\r\n",
      "Checking: /Users/mmmanueg/GitLab/Exercism/python/two-fer/.pytest_cache/v\r\n",
      "Checking: /Users/mmmanueg/GitLab/Exercism/python/two-fer/.pytest_cache/v/cache\r\n",
      "File: /Users/mmmanueg/GitLab/Exercism/python/two-fer/.pytest_cache/v/cache/nodeids\r\n",
      "\tlast accessed: 1590284221.2623334\r\n",
      "\tsize: 165\r\n",
      "File: /Users/mmmanueg/GitLab/Exercism/python/two-fer/.pytest_cache/v/cache/lastfailed\r\n",
      "\tlast accessed: 1590284221.2622907\r\n",
      "\tsize: 2\r\n",
      "File: /Users/mmmanueg/GitLab/Exercism/python/two-fer/.pytest_cache/v/cache/stepwise\r\n",
      "\tlast accessed: 1590284221.2621727\r\n",
      "\tsize: 2\r\n",
      "File: /Users/mmmanueg/GitLab/Exercism/python/two-fer/two_fer.py\r\n",
      "\tlast accessed: 1590284221.264138\r\n",
      "\tsize: 136\r\n",
      "Checking: /Users/mmmanueg/GitLab/Exercism/python/two-fer/__pycache__\r\n",
      "File: /Users/mmmanueg/GitLab/Exercism/python/two-fer/__pycache__/two_fer.cpython-38.pyc\r\n",
      "\tlast accessed: 1590284221.2619576\r\n",
      "\tsize: 330\r\n",
      "File: /Users/mmmanueg/GitLab/Exercism/python/two-fer/__pycache__/two_fer_test.cpython-38-pytest-5.4.2.pyc\r\n",
      "\tlast accessed: 1590284221.261855\r\n",
      "\tsize: 1096\r\n",
      "File: /Users/mmmanueg/GitLab/Exercism/python/two-fer/README.md\r\n",
      "\tlast accessed: 1590284221.2638273\r\n",
      "\tsize: 2242\r\n",
      "File: /Users/mmmanueg/GitLab/Exercism/python/two-fer/two_fer_test.py\r\n",
      "\tlast accessed: 1590284221.2635128\r\n",
      "\tsize: 524\r\n",
      "Checking: /Users/mmmanueg/GitLab/Exercism/python/hello-world\r\n",
      "File: /Users/mmmanueg/GitLab/Exercism/python/hello-world/hello_world.py\r\n",
      "\tlast accessed: 1590284221.2617948\r\n",
      "\tsize: 40\r\n",
      "Checking: /Users/mmmanueg/GitLab/Exercism/python/hello-world/.exercism\r\n",
      "File: /Users/mmmanueg/GitLab/Exercism/python/hello-world/.exercism/metadata.json\r\n",
      "\tlast accessed: 1590284221.2614853\r\n",
      "\tsize: 217\r\n",
      "Checking: /Users/mmmanueg/GitLab/Exercism/python/hello-world/.pytest_cache\r\n",
      "File: /Users/mmmanueg/GitLab/Exercism/python/hello-world/.pytest_cache/CACHEDIR.TAG\r\n",
      "\tlast accessed: 1590284221.261438\r\n",
      "\tsize: 194\r\n",
      "File: /Users/mmmanueg/GitLab/Exercism/python/hello-world/.pytest_cache/README.md\r\n",
      "\tlast accessed: 1590284221.2613993\r\n",
      "\tsize: 295\r\n",
      "File: /Users/mmmanueg/GitLab/Exercism/python/hello-world/.pytest_cache/.gitignore\r\n",
      "\tlast accessed: 1590284221.2613537\r\n",
      "\tsize: 37\r\n",
      "Checking: /Users/mmmanueg/GitLab/Exercism/python/hello-world/.pytest_cache/v\r\n",
      "Checking: /Users/mmmanueg/GitLab/Exercism/python/hello-world/.pytest_cache/v/cache\r\n",
      "File: /Users/mmmanueg/GitLab/Exercism/python/hello-world/.pytest_cache/v/cache/nodeids\r\n",
      "\tlast accessed: 1590284221.2613065\r\n",
      "\tsize: 56\r\n",
      "File: /Users/mmmanueg/GitLab/Exercism/python/hello-world/.pytest_cache/v/cache/lastfailed\r\n",
      "\tlast accessed: 1590284221.2612429\r\n",
      "\tsize: 2\r\n",
      "File: /Users/mmmanueg/GitLab/Exercism/python/hello-world/.pytest_cache/v/cache/stepwise\r\n",
      "\tlast accessed: 1590284221.261174\r\n",
      "\tsize: 2\r\n",
      "File: /Users/mmmanueg/GitLab/Exercism/python/hello-world/hello_world_test.py\r\n",
      "\tlast accessed: 1590284221.2617495\r\n",
      "\tsize: 294\r\n",
      "Checking: /Users/mmmanueg/GitLab/Exercism/python/hello-world/__pycache__\r\n",
      "File: /Users/mmmanueg/GitLab/Exercism/python/hello-world/__pycache__/hello_world.cpython-38.pyc\r\n",
      "\tlast accessed: 1590284221.2611027\r\n",
      "\tsize: 259\r\n",
      "File: /Users/mmmanueg/GitLab/Exercism/python/hello-world/__pycache__/hello_world_test.cpython-38-pytest-5.4.2.pyc\r\n",
      "\tlast accessed: 1590284221.261024\r\n",
      "\tsize: 714\r\n",
      "File: /Users/mmmanueg/GitLab/Exercism/python/hello-world/README.md\r\n",
      "\tlast accessed: 1590284221.2615323\r\n",
      "\tsize: 2305\r\n",
      "Checking: /Users/mmmanueg/GitLab/Exercism/python/pangram\r\n",
      "Checking: /Users/mmmanueg/GitLab/Exercism/python/pangram/.exercism\r\n",
      "File: /Users/mmmanueg/GitLab/Exercism/python/pangram/.exercism/metadata.json\r\n",
      "\tlast accessed: 1590284221.260283\r\n",
      "\tsize: 214\r\n",
      "Checking: /Users/mmmanueg/GitLab/Exercism/python/pangram/.pytest_cache\r\n",
      "File: /Users/mmmanueg/GitLab/Exercism/python/pangram/.pytest_cache/CACHEDIR.TAG\r\n",
      "\tlast accessed: 1590284221.260152\r\n",
      "\tsize: 194\r\n",
      "File: /Users/mmmanueg/GitLab/Exercism/python/pangram/.pytest_cache/README.md\r\n",
      "\tlast accessed: 1590284221.2600918\r\n",
      "\tsize: 295\r\n",
      "File: /Users/mmmanueg/GitLab/Exercism/python/pangram/.pytest_cache/.gitignore\r\n",
      "\tlast accessed: 1590284221.2598155\r\n",
      "\tsize: 37\r\n",
      "Checking: /Users/mmmanueg/GitLab/Exercism/python/pangram/.pytest_cache/v\r\n",
      "Checking: /Users/mmmanueg/GitLab/Exercism/python/pangram/.pytest_cache/v/cache\r\n",
      "File: /Users/mmmanueg/GitLab/Exercism/python/pangram/.pytest_cache/v/cache/nodeids\r\n",
      "\tlast accessed: 1590284221.2595305\r\n",
      "\tsize: 742\r\n",
      "File: /Users/mmmanueg/GitLab/Exercism/python/pangram/.pytest_cache/v/cache/lastfailed\r\n",
      "\tlast accessed: 1590284221.2595284\r\n",
      "\tsize: 2\r\n",
      "File: /Users/mmmanueg/GitLab/Exercism/python/pangram/.pytest_cache/v/cache/stepwise\r\n",
      "\tlast accessed: 1590284221.2592304\r\n",
      "\tsize: 2\r\n",
      "Checking: /Users/mmmanueg/GitLab/Exercism/python/pangram/__pycache__\r\n",
      "File: /Users/mmmanueg/GitLab/Exercism/python/pangram/__pycache__/pangram_test.cpython-38-pytest-5.4.2.pyc\r\n",
      "\tlast accessed: 1590284221.2588108\r\n",
      "\tsize: 3080\r\n",
      "File: /Users/mmmanueg/GitLab/Exercism/python/pangram/__pycache__/pangram.cpython-38.pyc\r\n",
      "\tlast accessed: 1590284220.8044693\r\n",
      "\tsize: 379\r\n",
      "File: /Users/mmmanueg/GitLab/Exercism/python/pangram/README.md\r\n",
      "\tlast accessed: 1590284221.2607203\r\n",
      "\tsize: 2084\r\n",
      "File: /Users/mmmanueg/GitLab/Exercism/python/pangram/pangram.py\r\n",
      "\tlast accessed: 1590284221.2605057\r\n",
      "\tsize: 373\r\n",
      "File: /Users/mmmanueg/GitLab/Exercism/python/pangram/pangram_test.py\r\n",
      "\tlast accessed: 1590284221.260413\r\n",
      "\tsize: 1789\r\n",
      "File: /Users/mmmanueg/GitLab/Exercism/README.md\r\n",
      "\tlast accessed: 1590284221.2645369\r\n",
      "\tsize: 130\r\n",
      "File: /Users/mmmanueg/GitLab/Exercism/.gitignore\r\n",
      "\tlast accessed: 1590284221.2642066\r\n",
      "\tsize: 54\r\n",
      "Checking: /Users/mmmanueg/GitLab/Exercism/.git\r\n",
      "File: /Users/mmmanueg/GitLab/Exercism/.git/config\r\n",
      "\tlast accessed: 1590284220.800024\r\n",
      "\tsize: 366\r\n",
      "Checking: /Users/mmmanueg/GitLab/Exercism/.git/objects\r\n",
      "Checking: /Users/mmmanueg/GitLab/Exercism/.git/objects/51\r\n",
      "File: /Users/mmmanueg/GitLab/Exercism/.git/objects/51/8d072dcbdc6e10d23bb6aadc5de303eea2cd2a\r\n",
      "\tlast accessed: 1590284217.9603152\r\n",
      "\tsize: 125\r\n",
      "Checking: /Users/mmmanueg/GitLab/Exercism/.git/objects/58\r\n",
      "File: /Users/mmmanueg/GitLab/Exercism/.git/objects/58/f73862f0d39d52c7ad4fb573b08b2383109842\r\n",
      "\tlast accessed: 1590284217.9597707\r\n",
      "\tsize: 258\r\n",
      "Checking: /Users/mmmanueg/GitLab/Exercism/.git/objects/0b\r\n",
      "File: /Users/mmmanueg/GitLab/Exercism/.git/objects/0b/79a9e8ccc56790d73db53a00a7d79af166e162\r\n",
      "\tlast accessed: 1590284217.958243\r\n",
      "\tsize: 122\r\n",
      "Checking: /Users/mmmanueg/GitLab/Exercism/.git/objects/33\r\n",
      "File: /Users/mmmanueg/GitLab/Exercism/.git/objects/33/669ecfe7ed209943f785dfca9401d7ad7b0e11\r\n",
      "\tlast accessed: 1590284217.9575944\r\n",
      "\tsize: 122\r\n",
      "Checking: /Users/mmmanueg/GitLab/Exercism/.git/objects/05\r\n",
      "File: /Users/mmmanueg/GitLab/Exercism/.git/objects/05/e693f80d1bcde460b6eae8d6691aaad06aea4f\r\n",
      "\tlast accessed: 1590284217.9573562\r\n",
      "\tsize: 123\r\n",
      "Checking: /Users/mmmanueg/GitLab/Exercism/.git/objects/cf\r\n",
      "File: /Users/mmmanueg/GitLab/Exercism/.git/objects/cf/779b0964d0f57f387a94507db0beb4c8ba0b07\r\n",
      "\tlast accessed: 1590284217.9569266\r\n",
      "\tsize: 96\r\n",
      "Checking: /Users/mmmanueg/GitLab/Exercism/.git/objects/c1\r\n",
      "File: /Users/mmmanueg/GitLab/Exercism/.git/objects/c1/bc9d2ec7e368fa17a9cd1731d03ad9d04ec971\r\n",
      "\tlast accessed: 1590284217.9566088\r\n",
      "\tsize: 122\r\n",
      "Checking: /Users/mmmanueg/GitLab/Exercism/.git/objects/27\r\n",
      "File: /Users/mmmanueg/GitLab/Exercism/.git/objects/27/b6837ee399027a7715c029fb7bfd863c575a3a\r\n",
      "\tlast accessed: 1590284217.9563506\r\n",
      "\tsize: 160\r\n",
      "Checking: /Users/mmmanueg/GitLab/Exercism/.git/objects/pack\r\n",
      "Checking: /Users/mmmanueg/GitLab/Exercism/.git/objects/1a\r\n",
      "File: /Users/mmmanueg/GitLab/Exercism/.git/objects/1a/c690dad3053a846d77a2b59355fb9900d08aee\r\n",
      "\tlast accessed: 1590284217.955423\r\n",
      "\tsize: 117\r\n",
      "Checking: /Users/mmmanueg/GitLab/Exercism/.git/objects/19\r\n",
      "File: /Users/mmmanueg/GitLab/Exercism/.git/objects/19/82e6acee07d89885394206c0b5ec6c6bae597a\r\n",
      "\tlast accessed: 1590284217.6006393\r\n",
      "\tsize: 209\r\n",
      "Checking: /Users/mmmanueg/GitLab/Exercism/.git/objects/9f\r\n",
      "File: /Users/mmmanueg/GitLab/Exercism/.git/objects/9f/aa5e1b4208a4e5ecdc4b3baf466d954406aa40\r\n",
      "\tlast accessed: 1590284217.600573\r\n",
      "\tsize: 122\r\n",
      "Checking: /Users/mmmanueg/GitLab/Exercism/.git/objects/5c\r\n",
      "File: /Users/mmmanueg/GitLab/Exercism/.git/objects/5c/cd4a59dc542de907ed3924ae6f04ce4bfdfcd3\r\n",
      "\tlast accessed: 1590284217.6002567\r\n",
      "\tsize: 85\r\n",
      "Checking: /Users/mmmanueg/GitLab/Exercism/.git/objects/5d\r\n",
      "File: /Users/mmmanueg/GitLab/Exercism/.git/objects/5d/66e4310175eca4304ae9735932769e227143f2\r\n",
      "\tlast accessed: 1590284217.5995445\r\n",
      "\tsize: 117\r\n",
      "Checking: /Users/mmmanueg/GitLab/Exercism/.git/objects/info\r\n",
      "Checking: /Users/mmmanueg/GitLab/Exercism/.git/objects/5e\r\n",
      "File: /Users/mmmanueg/GitLab/Exercism/.git/objects/5e/a69f436d954df2b23a279d861446a9a82d2e8c\r\n",
      "\tlast accessed: 1590284217.5991204\r\n",
      "\tsize: 119\r\n",
      "Checking: /Users/mmmanueg/GitLab/Exercism/.git/objects/08\r\n",
      "File: /Users/mmmanueg/GitLab/Exercism/.git/objects/08/eebad04776d4bf89494acc10f8aeb87079f350\r\n",
      "\tlast accessed: 1590284217.5990782\r\n",
      "\tsize: 160\r\n",
      "Checking: /Users/mmmanueg/GitLab/Exercism/.git/objects/55\r\n",
      "File: /Users/mmmanueg/GitLab/Exercism/.git/objects/55/2896496fdf6e7edce6b8ad60b823879dcf012d\r\n",
      "\tlast accessed: 1590284217.5988228\r\n",
      "\tsize: 1096\r\n",
      "Checking: /Users/mmmanueg/GitLab/Exercism/.git/objects/90\r\n",
      "File: /Users/mmmanueg/GitLab/Exercism/.git/objects/90/a6357c846c5b47c285fa3f027032d488b49f23\r\n",
      "\tlast accessed: 1590284217.5985646\r\n",
      "\tsize: 183\r\n",
      "Checking: /Users/mmmanueg/GitLab/Exercism/.git/objects/b8\r\n",
      "File: /Users/mmmanueg/GitLab/Exercism/.git/objects/b8/1d82460ef165acfa544196bceada76a6e90742\r\n",
      "\tlast accessed: 1590284217.5984282\r\n",
      "\tsize: 1109\r\n",
      "Checking: /Users/mmmanueg/GitLab/Exercism/.git/objects/d5\r\n",
      "File: /Users/mmmanueg/GitLab/Exercism/.git/objects/d5/acfabaef3922b6ceb1c0db07c81d40d994ff97\r\n",
      "\tlast accessed: 1590284217.597365\r\n",
      "\tsize: 1141\r\n",
      "Checking: /Users/mmmanueg/GitLab/Exercism/.git/objects/af\r\n",
      "File: /Users/mmmanueg/GitLab/Exercism/.git/objects/af/b82cb00b97c6be54a8f203d7c3c3ac650db7c5\r\n",
      "\tlast accessed: 1590284217.597114\r\n",
      "\tsize: 53\r\n",
      "Checking: /Users/mmmanueg/GitLab/Exercism/.git/objects/db\r\n",
      "File: /Users/mmmanueg/GitLab/Exercism/.git/objects/db/b266515cff983c6074d24c1cd8230f62f927a5\r\n",
      "\tlast accessed: 1590284217.59684\r\n",
      "\tsize: 53\r\n",
      "Checking: /Users/mmmanueg/GitLab/Exercism/.git/objects/de\r\n",
      "File: /Users/mmmanueg/GitLab/Exercism/.git/objects/de/a05ae20e80bec4a3bbe645cf4beb2343e0d4c9\r\n",
      "\tlast accessed: 1590284217.5964568\r\n",
      "\tsize: 52\r\n",
      "Checking: /Users/mmmanueg/GitLab/Exercism/.git/objects/b0\r\n",
      "File: /Users/mmmanueg/GitLab/Exercism/.git/objects/b0/7af2829a635d8e4d9d8bdb2621762123ac70c5\r\n",
      "\tlast accessed: 1590284217.5963786\r\n",
      "\tsize: 637\r\n",
      "Checking: /Users/mmmanueg/GitLab/Exercism/.git/objects/a6\r\n",
      "File: /Users/mmmanueg/GitLab/Exercism/.git/objects/a6/b332d4737f32493d9fa1a8ef7f77fff2f95d6e\r\n",
      "\tlast accessed: 1590284217.5953848\r\n",
      "\tsize: 218\r\n",
      "Checking: /Users/mmmanueg/GitLab/Exercism/.git/objects/ea\r\n",
      "File: /Users/mmmanueg/GitLab/Exercism/.git/objects/ea/11afd7f5a4dacc105be279ea245b5a235c3111\r\n",
      "\tlast accessed: 1590284217.5949342\r\n",
      "\tsize: 41\r\n",
      "Checking: /Users/mmmanueg/GitLab/Exercism/.git/objects/ff\r\n",
      "File: /Users/mmmanueg/GitLab/Exercism/.git/objects/ff/6c8b42d1fdd9881c6c82ef2b37f7a394f9187a\r\n",
      "\tlast accessed: 1590284217.5946753\r\n",
      "\tsize: 119\r\n",
      "Checking: /Users/mmmanueg/GitLab/Exercism/.git/objects/48\r\n",
      "File: /Users/mmmanueg/GitLab/Exercism/.git/objects/48/0668266e29824a748567cc4435f68c77023346\r\n",
      "\tlast accessed: 1590284217.594341\r\n",
      "\tsize: 132\r\n",
      "Checking: /Users/mmmanueg/GitLab/Exercism/.git/objects/15\r\n",
      "File: /Users/mmmanueg/GitLab/Exercism/.git/objects/15/3b950947044f8090c1cd414329ffe09555e9ef\r\n",
      "\tlast accessed: 1590284217.59398\r\n",
      "\tsize: 119\r\n",
      "Checking: /Users/mmmanueg/GitLab/Exercism/.git/objects/2e\r\n",
      "File: /Users/mmmanueg/GitLab/Exercism/.git/objects/2e/65540771d7e0a850b336dfb7211016a3f6d74d\r\n",
      "\tlast accessed: 1590284217.5939393\r\n",
      "\tsize: 149\r\n",
      "Checking: /Users/mmmanueg/GitLab/Exercism/.git/objects/13\r\n",
      "File: /Users/mmmanueg/GitLab/Exercism/.git/objects/13/2840de81925cf447ea28c0ff716180284216ab\r\n",
      "\tlast accessed: 1590284217.5938761\r\n",
      "\tsize: 162\r\n",
      "Checking: /Users/mmmanueg/GitLab/Exercism/.git/objects/22\r\n",
      "File: /Users/mmmanueg/GitLab/Exercism/.git/objects/22/4061c99a1ea925a79def24dd0933bf04aa187d\r\n",
      "\tlast accessed: 1590284217.5935888\r\n",
      "\tsize: 63\r\n",
      "File: /Users/mmmanueg/GitLab/Exercism/.git/HEAD\r\n",
      "\tlast accessed: 1590284220.76162\r\n",
      "\tsize: 23\r\n",
      "Checking: /Users/mmmanueg/GitLab/Exercism/.git/info\r\n",
      "File: /Users/mmmanueg/GitLab/Exercism/.git/info/exclude\r\n",
      "\tlast accessed: 1590284217.5928748\r\n",
      "\tsize: 240\r\n",
      "Checking: /Users/mmmanueg/GitLab/Exercism/.git/logs\r\n",
      "File: /Users/mmmanueg/GitLab/Exercism/.git/logs/HEAD\r\n",
      "\tlast accessed: 1590284217.5924702\r\n",
      "\tsize: 671\r\n",
      "Checking: /Users/mmmanueg/GitLab/Exercism/.git/logs/refs\r\n",
      "Checking: /Users/mmmanueg/GitLab/Exercism/.git/logs/refs/heads\r\n",
      "File: /Users/mmmanueg/GitLab/Exercism/.git/logs/refs/heads/master\r\n",
      "\tlast accessed: 1590284217.589609\r\n",
      "\tsize: 671\r\n",
      "Checking: /Users/mmmanueg/GitLab/Exercism/.git/logs/refs/remotes\r\n",
      "Checking: /Users/mmmanueg/GitLab/Exercism/.git/logs/refs/remotes/origin\r\n",
      "File: /Users/mmmanueg/GitLab/Exercism/.git/logs/refs/remotes/origin/master\r\n",
      "\tlast accessed: 1590284217.2956336\r\n",
      "\tsize: 584\r\n",
      "File: /Users/mmmanueg/GitLab/Exercism/.git/description\r\n",
      "\tlast accessed: 1590284217.9606323\r\n",
      "\tsize: 73\r\n",
      "Checking: /Users/mmmanueg/GitLab/Exercism/.git/hooks\r\n",
      "File: /Users/mmmanueg/GitLab/Exercism/.git/hooks/commit-msg.sample\r\n",
      "\tlast accessed: 1590284217.295387\r\n",
      "\tsize: 896\r\n",
      "File: /Users/mmmanueg/GitLab/Exercism/.git/hooks/pre-rebase.sample\r\n",
      "\tlast accessed: 1590284217.2950823\r\n",
      "\tsize: 4898\r\n",
      "File: /Users/mmmanueg/GitLab/Exercism/.git/hooks/pre-commit.sample\r\n",
      "\tlast accessed: 1590284217.2948172\r\n",
      "\tsize: 1638\r\n",
      "File: /Users/mmmanueg/GitLab/Exercism/.git/hooks/applypatch-msg.sample\r\n",
      "\tlast accessed: 1590284217.2947788\r\n",
      "\tsize: 478\r\n",
      "File: /Users/mmmanueg/GitLab/Exercism/.git/hooks/fsmonitor-watchman.sample\r\n",
      "\tlast accessed: 1590284217.2945368\r\n",
      "\tsize: 3327\r\n",
      "File: /Users/mmmanueg/GitLab/Exercism/.git/hooks/pre-receive.sample\r\n",
      "\tlast accessed: 1590284217.2939267\r\n",
      "\tsize: 544\r\n",
      "File: /Users/mmmanueg/GitLab/Exercism/.git/hooks/prepare-commit-msg.sample\r\n",
      "\tlast accessed: 1590284217.2936864\r\n",
      "\tsize: 1492\r\n",
      "File: /Users/mmmanueg/GitLab/Exercism/.git/hooks/post-update.sample\r\n",
      "\tlast accessed: 1590284217.2934222\r\n",
      "\tsize: 189\r\n",
      "File: /Users/mmmanueg/GitLab/Exercism/.git/hooks/pre-applypatch.sample\r\n",
      "\tlast accessed: 1590284217.2931604\r\n",
      "\tsize: 424\r\n",
      "File: /Users/mmmanueg/GitLab/Exercism/.git/hooks/pre-push.sample\r\n",
      "\tlast accessed: 1590284217.2928226\r\n",
      "\tsize: 1348\r\n",
      "File: /Users/mmmanueg/GitLab/Exercism/.git/hooks/update.sample\r\n",
      "\tlast accessed: 1590284217.2923944\r\n",
      "\tsize: 3610\r\n",
      "Checking: /Users/mmmanueg/GitLab/Exercism/.git/refs\r\n",
      "Checking: /Users/mmmanueg/GitLab/Exercism/.git/refs/heads\r\n",
      "File: /Users/mmmanueg/GitLab/Exercism/.git/refs/heads/master\r\n",
      "\tlast accessed: 1590284217.2910473\r\n",
      "\tsize: 41\r\n",
      "Checking: /Users/mmmanueg/GitLab/Exercism/.git/refs/tags\r\n",
      "Checking: /Users/mmmanueg/GitLab/Exercism/.git/refs/remotes\r\n",
      "Checking: /Users/mmmanueg/GitLab/Exercism/.git/refs/remotes/origin\r\n",
      "File: /Users/mmmanueg/GitLab/Exercism/.git/refs/remotes/origin/master\r\n",
      "\tlast accessed: 1590284217.2909174\r\n",
      "\tsize: 41\r\n",
      "File: /Users/mmmanueg/GitLab/Exercism/.git/index\r\n",
      "\tlast accessed: 1590284217.9605858\r\n",
      "\tsize: 1189\r\n",
      "File: /Users/mmmanueg/GitLab/Exercism/.git/COMMIT_EDITMSG\r\n",
      "\tlast accessed: 1590284217.9603806\r\n",
      "\tsize: 50\r\n"
     ]
    }
   ],
   "source": [
    "!python walk_path.py ~/GitLab/Exercism/"
   ]
  },
  {
   "cell_type": "markdown",
   "metadata": {},
   "source": [
    "## Walking directory trees using os.walk"
   ]
  },
  {
   "cell_type": "code",
   "execution_count": 1,
   "metadata": {},
   "outputs": [],
   "source": [
    "import os\n",
    "\n",
    "def walk_path(parent_path):\n",
    "    for parent_path, directories, files in os.walk(parent_path):\n",
    "        print(f'Checking {parent_path}')\n",
    "        for file_name in files:\n",
    "            file_path = os.path.join(parent_path, file_name)\n",
    "            last_access = os.path.getatime(file_path)\n",
    "            size = os.path.getsize(file_path)\n",
    "            print(f'File: {file_path}')\n",
    "            print(f'\\tlast accessed: {last_access}')\n",
    "            print(f'\\tsize: {size}')"
   ]
  },
  {
   "cell_type": "code",
   "execution_count": 7,
   "metadata": {},
   "outputs": [
    {
     "name": "stdout",
     "output_type": "stream",
     "text": [
      "Checking /Users/mmmanueg/GitLab/Exercism/\n",
      "File: /Users/mmmanueg/GitLab/Exercism/README.md\n",
      "\tlast accessed: 1590284221.2645369\n",
      "\tsize: 130\n",
      "File: /Users/mmmanueg/GitLab/Exercism/.gitignore\n",
      "\tlast accessed: 1590284221.2642066\n",
      "\tsize: 54\n",
      "Checking /Users/mmmanueg/GitLab/Exercism/python\n",
      "Checking /Users/mmmanueg/GitLab/Exercism/python/two-fer\n",
      "File: /Users/mmmanueg/GitLab/Exercism/python/two-fer/two_fer.py\n",
      "\tlast accessed: 1590284221.264138\n",
      "\tsize: 136\n",
      "File: /Users/mmmanueg/GitLab/Exercism/python/two-fer/README.md\n",
      "\tlast accessed: 1590284221.2638273\n",
      "\tsize: 2242\n",
      "File: /Users/mmmanueg/GitLab/Exercism/python/two-fer/two_fer_test.py\n",
      "\tlast accessed: 1590284221.2635128\n",
      "\tsize: 524\n",
      "Checking /Users/mmmanueg/GitLab/Exercism/python/two-fer/.exercism\n",
      "File: /Users/mmmanueg/GitLab/Exercism/python/two-fer/.exercism/metadata.json\n",
      "\tlast accessed: 1590284221.2634602\n",
      "\tsize: 214\n",
      "Checking /Users/mmmanueg/GitLab/Exercism/python/two-fer/.pytest_cache\n",
      "File: /Users/mmmanueg/GitLab/Exercism/python/two-fer/.pytest_cache/CACHEDIR.TAG\n",
      "\tlast accessed: 1590284221.2631247\n",
      "\tsize: 194\n",
      "File: /Users/mmmanueg/GitLab/Exercism/python/two-fer/.pytest_cache/README.md\n",
      "\tlast accessed: 1590284221.2627366\n",
      "\tsize: 295\n",
      "File: /Users/mmmanueg/GitLab/Exercism/python/two-fer/.pytest_cache/.gitignore\n",
      "\tlast accessed: 1590284221.262505\n",
      "\tsize: 37\n",
      "Checking /Users/mmmanueg/GitLab/Exercism/python/two-fer/.pytest_cache/v\n",
      "Checking /Users/mmmanueg/GitLab/Exercism/python/two-fer/.pytest_cache/v/cache\n",
      "File: /Users/mmmanueg/GitLab/Exercism/python/two-fer/.pytest_cache/v/cache/nodeids\n",
      "\tlast accessed: 1590284221.2623334\n",
      "\tsize: 165\n",
      "File: /Users/mmmanueg/GitLab/Exercism/python/two-fer/.pytest_cache/v/cache/lastfailed\n",
      "\tlast accessed: 1590284221.2622907\n",
      "\tsize: 2\n",
      "File: /Users/mmmanueg/GitLab/Exercism/python/two-fer/.pytest_cache/v/cache/stepwise\n",
      "\tlast accessed: 1590284221.2621727\n",
      "\tsize: 2\n",
      "Checking /Users/mmmanueg/GitLab/Exercism/python/two-fer/__pycache__\n",
      "File: /Users/mmmanueg/GitLab/Exercism/python/two-fer/__pycache__/two_fer.cpython-38.pyc\n",
      "\tlast accessed: 1590284221.2619576\n",
      "\tsize: 330\n",
      "File: /Users/mmmanueg/GitLab/Exercism/python/two-fer/__pycache__/two_fer_test.cpython-38-pytest-5.4.2.pyc\n",
      "\tlast accessed: 1590284221.261855\n",
      "\tsize: 1096\n",
      "Checking /Users/mmmanueg/GitLab/Exercism/python/hello-world\n",
      "File: /Users/mmmanueg/GitLab/Exercism/python/hello-world/hello_world.py\n",
      "\tlast accessed: 1590284221.2617948\n",
      "\tsize: 40\n",
      "File: /Users/mmmanueg/GitLab/Exercism/python/hello-world/hello_world_test.py\n",
      "\tlast accessed: 1590284221.2617495\n",
      "\tsize: 294\n",
      "File: /Users/mmmanueg/GitLab/Exercism/python/hello-world/README.md\n",
      "\tlast accessed: 1590284221.2615323\n",
      "\tsize: 2305\n",
      "Checking /Users/mmmanueg/GitLab/Exercism/python/hello-world/.exercism\n",
      "File: /Users/mmmanueg/GitLab/Exercism/python/hello-world/.exercism/metadata.json\n",
      "\tlast accessed: 1590284221.2614853\n",
      "\tsize: 217\n",
      "Checking /Users/mmmanueg/GitLab/Exercism/python/hello-world/.pytest_cache\n",
      "File: /Users/mmmanueg/GitLab/Exercism/python/hello-world/.pytest_cache/CACHEDIR.TAG\n",
      "\tlast accessed: 1590284221.261438\n",
      "\tsize: 194\n",
      "File: /Users/mmmanueg/GitLab/Exercism/python/hello-world/.pytest_cache/README.md\n",
      "\tlast accessed: 1590284221.2613993\n",
      "\tsize: 295\n",
      "File: /Users/mmmanueg/GitLab/Exercism/python/hello-world/.pytest_cache/.gitignore\n",
      "\tlast accessed: 1590284221.2613537\n",
      "\tsize: 37\n",
      "Checking /Users/mmmanueg/GitLab/Exercism/python/hello-world/.pytest_cache/v\n",
      "Checking /Users/mmmanueg/GitLab/Exercism/python/hello-world/.pytest_cache/v/cache\n",
      "File: /Users/mmmanueg/GitLab/Exercism/python/hello-world/.pytest_cache/v/cache/nodeids\n",
      "\tlast accessed: 1590284221.2613065\n",
      "\tsize: 56\n",
      "File: /Users/mmmanueg/GitLab/Exercism/python/hello-world/.pytest_cache/v/cache/lastfailed\n",
      "\tlast accessed: 1590284221.2612429\n",
      "\tsize: 2\n",
      "File: /Users/mmmanueg/GitLab/Exercism/python/hello-world/.pytest_cache/v/cache/stepwise\n",
      "\tlast accessed: 1590284221.261174\n",
      "\tsize: 2\n",
      "Checking /Users/mmmanueg/GitLab/Exercism/python/hello-world/__pycache__\n",
      "File: /Users/mmmanueg/GitLab/Exercism/python/hello-world/__pycache__/hello_world.cpython-38.pyc\n",
      "\tlast accessed: 1590284221.2611027\n",
      "\tsize: 259\n",
      "File: /Users/mmmanueg/GitLab/Exercism/python/hello-world/__pycache__/hello_world_test.cpython-38-pytest-5.4.2.pyc\n",
      "\tlast accessed: 1590284221.261024\n",
      "\tsize: 714\n",
      "Checking /Users/mmmanueg/GitLab/Exercism/python/pangram\n",
      "File: /Users/mmmanueg/GitLab/Exercism/python/pangram/README.md\n",
      "\tlast accessed: 1590284221.2607203\n",
      "\tsize: 2084\n",
      "File: /Users/mmmanueg/GitLab/Exercism/python/pangram/pangram.py\n",
      "\tlast accessed: 1590284221.2605057\n",
      "\tsize: 373\n",
      "File: /Users/mmmanueg/GitLab/Exercism/python/pangram/pangram_test.py\n",
      "\tlast accessed: 1590284221.260413\n",
      "\tsize: 1789\n",
      "Checking /Users/mmmanueg/GitLab/Exercism/python/pangram/.exercism\n",
      "File: /Users/mmmanueg/GitLab/Exercism/python/pangram/.exercism/metadata.json\n",
      "\tlast accessed: 1590284221.260283\n",
      "\tsize: 214\n",
      "Checking /Users/mmmanueg/GitLab/Exercism/python/pangram/.pytest_cache\n",
      "File: /Users/mmmanueg/GitLab/Exercism/python/pangram/.pytest_cache/CACHEDIR.TAG\n",
      "\tlast accessed: 1590284221.260152\n",
      "\tsize: 194\n",
      "File: /Users/mmmanueg/GitLab/Exercism/python/pangram/.pytest_cache/README.md\n",
      "\tlast accessed: 1590284221.2600918\n",
      "\tsize: 295\n",
      "File: /Users/mmmanueg/GitLab/Exercism/python/pangram/.pytest_cache/.gitignore\n",
      "\tlast accessed: 1590284221.2598155\n",
      "\tsize: 37\n",
      "Checking /Users/mmmanueg/GitLab/Exercism/python/pangram/.pytest_cache/v\n",
      "Checking /Users/mmmanueg/GitLab/Exercism/python/pangram/.pytest_cache/v/cache\n",
      "File: /Users/mmmanueg/GitLab/Exercism/python/pangram/.pytest_cache/v/cache/nodeids\n",
      "\tlast accessed: 1590284221.2595305\n",
      "\tsize: 742\n",
      "File: /Users/mmmanueg/GitLab/Exercism/python/pangram/.pytest_cache/v/cache/lastfailed\n",
      "\tlast accessed: 1590284221.2595284\n",
      "\tsize: 2\n",
      "File: /Users/mmmanueg/GitLab/Exercism/python/pangram/.pytest_cache/v/cache/stepwise\n",
      "\tlast accessed: 1590284221.2592304\n",
      "\tsize: 2\n",
      "Checking /Users/mmmanueg/GitLab/Exercism/python/pangram/__pycache__\n",
      "File: /Users/mmmanueg/GitLab/Exercism/python/pangram/__pycache__/pangram_test.cpython-38-pytest-5.4.2.pyc\n",
      "\tlast accessed: 1590284221.2588108\n",
      "\tsize: 3080\n",
      "File: /Users/mmmanueg/GitLab/Exercism/python/pangram/__pycache__/pangram.cpython-38.pyc\n",
      "\tlast accessed: 1590284220.8044693\n",
      "\tsize: 379\n",
      "Checking /Users/mmmanueg/GitLab/Exercism/.git\n",
      "File: /Users/mmmanueg/GitLab/Exercism/.git/config\n",
      "\tlast accessed: 1590284220.800024\n",
      "\tsize: 366\n",
      "File: /Users/mmmanueg/GitLab/Exercism/.git/HEAD\n",
      "\tlast accessed: 1590284220.76162\n",
      "\tsize: 23\n",
      "File: /Users/mmmanueg/GitLab/Exercism/.git/description\n",
      "\tlast accessed: 1590284217.9606323\n",
      "\tsize: 73\n",
      "File: /Users/mmmanueg/GitLab/Exercism/.git/index\n",
      "\tlast accessed: 1590284217.9605858\n",
      "\tsize: 1189\n",
      "File: /Users/mmmanueg/GitLab/Exercism/.git/COMMIT_EDITMSG\n",
      "\tlast accessed: 1590284217.9603806\n",
      "\tsize: 50\n",
      "Checking /Users/mmmanueg/GitLab/Exercism/.git/objects\n",
      "Checking /Users/mmmanueg/GitLab/Exercism/.git/objects/51\n",
      "File: /Users/mmmanueg/GitLab/Exercism/.git/objects/51/8d072dcbdc6e10d23bb6aadc5de303eea2cd2a\n",
      "\tlast accessed: 1590284217.9603152\n",
      "\tsize: 125\n",
      "Checking /Users/mmmanueg/GitLab/Exercism/.git/objects/58\n",
      "File: /Users/mmmanueg/GitLab/Exercism/.git/objects/58/f73862f0d39d52c7ad4fb573b08b2383109842\n",
      "\tlast accessed: 1590284217.9597707\n",
      "\tsize: 258\n",
      "Checking /Users/mmmanueg/GitLab/Exercism/.git/objects/0b\n",
      "File: /Users/mmmanueg/GitLab/Exercism/.git/objects/0b/79a9e8ccc56790d73db53a00a7d79af166e162\n",
      "\tlast accessed: 1590284217.958243\n",
      "\tsize: 122\n",
      "Checking /Users/mmmanueg/GitLab/Exercism/.git/objects/33\n",
      "File: /Users/mmmanueg/GitLab/Exercism/.git/objects/33/669ecfe7ed209943f785dfca9401d7ad7b0e11\n",
      "\tlast accessed: 1590284217.9575944\n",
      "\tsize: 122\n",
      "Checking /Users/mmmanueg/GitLab/Exercism/.git/objects/05\n",
      "File: /Users/mmmanueg/GitLab/Exercism/.git/objects/05/e693f80d1bcde460b6eae8d6691aaad06aea4f\n",
      "\tlast accessed: 1590284217.9573562\n",
      "\tsize: 123\n",
      "Checking /Users/mmmanueg/GitLab/Exercism/.git/objects/cf\n",
      "File: /Users/mmmanueg/GitLab/Exercism/.git/objects/cf/779b0964d0f57f387a94507db0beb4c8ba0b07\n",
      "\tlast accessed: 1590284217.9569266\n",
      "\tsize: 96\n",
      "Checking /Users/mmmanueg/GitLab/Exercism/.git/objects/c1\n",
      "File: /Users/mmmanueg/GitLab/Exercism/.git/objects/c1/bc9d2ec7e368fa17a9cd1731d03ad9d04ec971\n",
      "\tlast accessed: 1590284217.9566088\n",
      "\tsize: 122\n",
      "Checking /Users/mmmanueg/GitLab/Exercism/.git/objects/27\n",
      "File: /Users/mmmanueg/GitLab/Exercism/.git/objects/27/b6837ee399027a7715c029fb7bfd863c575a3a\n",
      "\tlast accessed: 1590284217.9563506\n",
      "\tsize: 160\n",
      "Checking /Users/mmmanueg/GitLab/Exercism/.git/objects/pack\n",
      "Checking /Users/mmmanueg/GitLab/Exercism/.git/objects/1a\n",
      "File: /Users/mmmanueg/GitLab/Exercism/.git/objects/1a/c690dad3053a846d77a2b59355fb9900d08aee\n",
      "\tlast accessed: 1590284217.955423\n",
      "\tsize: 117\n",
      "Checking /Users/mmmanueg/GitLab/Exercism/.git/objects/19\n",
      "File: /Users/mmmanueg/GitLab/Exercism/.git/objects/19/82e6acee07d89885394206c0b5ec6c6bae597a\n",
      "\tlast accessed: 1590284217.6006393\n",
      "\tsize: 209\n",
      "Checking /Users/mmmanueg/GitLab/Exercism/.git/objects/9f\n",
      "File: /Users/mmmanueg/GitLab/Exercism/.git/objects/9f/aa5e1b4208a4e5ecdc4b3baf466d954406aa40\n",
      "\tlast accessed: 1590284217.600573\n",
      "\tsize: 122\n",
      "Checking /Users/mmmanueg/GitLab/Exercism/.git/objects/5c\n",
      "File: /Users/mmmanueg/GitLab/Exercism/.git/objects/5c/cd4a59dc542de907ed3924ae6f04ce4bfdfcd3\n",
      "\tlast accessed: 1590284217.6002567\n",
      "\tsize: 85\n",
      "Checking /Users/mmmanueg/GitLab/Exercism/.git/objects/5d\n",
      "File: /Users/mmmanueg/GitLab/Exercism/.git/objects/5d/66e4310175eca4304ae9735932769e227143f2\n",
      "\tlast accessed: 1590284217.5995445\n",
      "\tsize: 117\n",
      "Checking /Users/mmmanueg/GitLab/Exercism/.git/objects/info\n",
      "Checking /Users/mmmanueg/GitLab/Exercism/.git/objects/5e\n",
      "File: /Users/mmmanueg/GitLab/Exercism/.git/objects/5e/a69f436d954df2b23a279d861446a9a82d2e8c\n",
      "\tlast accessed: 1590284217.5991204\n",
      "\tsize: 119\n",
      "Checking /Users/mmmanueg/GitLab/Exercism/.git/objects/08\n",
      "File: /Users/mmmanueg/GitLab/Exercism/.git/objects/08/eebad04776d4bf89494acc10f8aeb87079f350\n",
      "\tlast accessed: 1590284217.5990782\n",
      "\tsize: 160\n",
      "Checking /Users/mmmanueg/GitLab/Exercism/.git/objects/55\n",
      "File: /Users/mmmanueg/GitLab/Exercism/.git/objects/55/2896496fdf6e7edce6b8ad60b823879dcf012d\n",
      "\tlast accessed: 1590284217.5988228\n",
      "\tsize: 1096\n",
      "Checking /Users/mmmanueg/GitLab/Exercism/.git/objects/90\n",
      "File: /Users/mmmanueg/GitLab/Exercism/.git/objects/90/a6357c846c5b47c285fa3f027032d488b49f23\n",
      "\tlast accessed: 1590284217.5985646\n",
      "\tsize: 183\n",
      "Checking /Users/mmmanueg/GitLab/Exercism/.git/objects/b8\n",
      "File: /Users/mmmanueg/GitLab/Exercism/.git/objects/b8/1d82460ef165acfa544196bceada76a6e90742\n",
      "\tlast accessed: 1590284217.5984282\n",
      "\tsize: 1109\n",
      "Checking /Users/mmmanueg/GitLab/Exercism/.git/objects/d5\n",
      "File: /Users/mmmanueg/GitLab/Exercism/.git/objects/d5/acfabaef3922b6ceb1c0db07c81d40d994ff97\n",
      "\tlast accessed: 1590284217.597365\n",
      "\tsize: 1141\n",
      "Checking /Users/mmmanueg/GitLab/Exercism/.git/objects/af\n",
      "File: /Users/mmmanueg/GitLab/Exercism/.git/objects/af/b82cb00b97c6be54a8f203d7c3c3ac650db7c5\n",
      "\tlast accessed: 1590284217.597114\n",
      "\tsize: 53\n",
      "Checking /Users/mmmanueg/GitLab/Exercism/.git/objects/db\n",
      "File: /Users/mmmanueg/GitLab/Exercism/.git/objects/db/b266515cff983c6074d24c1cd8230f62f927a5\n",
      "\tlast accessed: 1590284217.59684\n",
      "\tsize: 53\n",
      "Checking /Users/mmmanueg/GitLab/Exercism/.git/objects/de\n",
      "File: /Users/mmmanueg/GitLab/Exercism/.git/objects/de/a05ae20e80bec4a3bbe645cf4beb2343e0d4c9\n",
      "\tlast accessed: 1590284217.5964568\n",
      "\tsize: 52\n",
      "Checking /Users/mmmanueg/GitLab/Exercism/.git/objects/b0\n",
      "File: /Users/mmmanueg/GitLab/Exercism/.git/objects/b0/7af2829a635d8e4d9d8bdb2621762123ac70c5\n",
      "\tlast accessed: 1590284217.5963786\n",
      "\tsize: 637\n",
      "Checking /Users/mmmanueg/GitLab/Exercism/.git/objects/a6\n",
      "File: /Users/mmmanueg/GitLab/Exercism/.git/objects/a6/b332d4737f32493d9fa1a8ef7f77fff2f95d6e\n",
      "\tlast accessed: 1590284217.5953848\n",
      "\tsize: 218\n",
      "Checking /Users/mmmanueg/GitLab/Exercism/.git/objects/ea\n",
      "File: /Users/mmmanueg/GitLab/Exercism/.git/objects/ea/11afd7f5a4dacc105be279ea245b5a235c3111\n",
      "\tlast accessed: 1590284217.5949342\n",
      "\tsize: 41\n",
      "Checking /Users/mmmanueg/GitLab/Exercism/.git/objects/ff\n",
      "File: /Users/mmmanueg/GitLab/Exercism/.git/objects/ff/6c8b42d1fdd9881c6c82ef2b37f7a394f9187a\n",
      "\tlast accessed: 1590284217.5946753\n",
      "\tsize: 119\n",
      "Checking /Users/mmmanueg/GitLab/Exercism/.git/objects/48\n",
      "File: /Users/mmmanueg/GitLab/Exercism/.git/objects/48/0668266e29824a748567cc4435f68c77023346\n",
      "\tlast accessed: 1590284217.594341\n",
      "\tsize: 132\n",
      "Checking /Users/mmmanueg/GitLab/Exercism/.git/objects/15\n",
      "File: /Users/mmmanueg/GitLab/Exercism/.git/objects/15/3b950947044f8090c1cd414329ffe09555e9ef\n",
      "\tlast accessed: 1590284217.59398\n",
      "\tsize: 119\n",
      "Checking /Users/mmmanueg/GitLab/Exercism/.git/objects/2e\n",
      "File: /Users/mmmanueg/GitLab/Exercism/.git/objects/2e/65540771d7e0a850b336dfb7211016a3f6d74d\n",
      "\tlast accessed: 1590284217.5939393\n",
      "\tsize: 149\n",
      "Checking /Users/mmmanueg/GitLab/Exercism/.git/objects/13\n",
      "File: /Users/mmmanueg/GitLab/Exercism/.git/objects/13/2840de81925cf447ea28c0ff716180284216ab\n",
      "\tlast accessed: 1590284217.5938761\n",
      "\tsize: 162\n",
      "Checking /Users/mmmanueg/GitLab/Exercism/.git/objects/22\n",
      "File: /Users/mmmanueg/GitLab/Exercism/.git/objects/22/4061c99a1ea925a79def24dd0933bf04aa187d\n",
      "\tlast accessed: 1590284217.5935888\n",
      "\tsize: 63\n",
      "Checking /Users/mmmanueg/GitLab/Exercism/.git/info\n",
      "File: /Users/mmmanueg/GitLab/Exercism/.git/info/exclude\n",
      "\tlast accessed: 1590284217.5928748\n",
      "\tsize: 240\n",
      "Checking /Users/mmmanueg/GitLab/Exercism/.git/logs\n",
      "File: /Users/mmmanueg/GitLab/Exercism/.git/logs/HEAD\n",
      "\tlast accessed: 1590284217.5924702\n",
      "\tsize: 671\n",
      "Checking /Users/mmmanueg/GitLab/Exercism/.git/logs/refs\n",
      "Checking /Users/mmmanueg/GitLab/Exercism/.git/logs/refs/heads\n",
      "File: /Users/mmmanueg/GitLab/Exercism/.git/logs/refs/heads/master\n",
      "\tlast accessed: 1590284217.589609\n",
      "\tsize: 671\n",
      "Checking /Users/mmmanueg/GitLab/Exercism/.git/logs/refs/remotes\n",
      "Checking /Users/mmmanueg/GitLab/Exercism/.git/logs/refs/remotes/origin\n",
      "File: /Users/mmmanueg/GitLab/Exercism/.git/logs/refs/remotes/origin/master\n",
      "\tlast accessed: 1590284217.2956336\n",
      "\tsize: 584\n",
      "Checking /Users/mmmanueg/GitLab/Exercism/.git/hooks\n",
      "File: /Users/mmmanueg/GitLab/Exercism/.git/hooks/commit-msg.sample\n",
      "\tlast accessed: 1590284217.295387\n",
      "\tsize: 896\n",
      "File: /Users/mmmanueg/GitLab/Exercism/.git/hooks/pre-rebase.sample\n",
      "\tlast accessed: 1590284217.2950823\n",
      "\tsize: 4898\n",
      "File: /Users/mmmanueg/GitLab/Exercism/.git/hooks/pre-commit.sample\n",
      "\tlast accessed: 1590284217.2948172\n",
      "\tsize: 1638\n",
      "File: /Users/mmmanueg/GitLab/Exercism/.git/hooks/applypatch-msg.sample\n",
      "\tlast accessed: 1590284217.2947788\n",
      "\tsize: 478\n",
      "File: /Users/mmmanueg/GitLab/Exercism/.git/hooks/fsmonitor-watchman.sample\n",
      "\tlast accessed: 1590284217.2945368\n",
      "\tsize: 3327\n",
      "File: /Users/mmmanueg/GitLab/Exercism/.git/hooks/pre-receive.sample\n",
      "\tlast accessed: 1590284217.2939267\n",
      "\tsize: 544\n",
      "File: /Users/mmmanueg/GitLab/Exercism/.git/hooks/prepare-commit-msg.sample\n",
      "\tlast accessed: 1590284217.2936864\n",
      "\tsize: 1492\n",
      "File: /Users/mmmanueg/GitLab/Exercism/.git/hooks/post-update.sample\n",
      "\tlast accessed: 1590284217.2934222\n",
      "\tsize: 189\n",
      "File: /Users/mmmanueg/GitLab/Exercism/.git/hooks/pre-applypatch.sample\n",
      "\tlast accessed: 1590284217.2931604\n",
      "\tsize: 424\n",
      "File: /Users/mmmanueg/GitLab/Exercism/.git/hooks/pre-push.sample\n",
      "\tlast accessed: 1590284217.2928226\n",
      "\tsize: 1348\n",
      "File: /Users/mmmanueg/GitLab/Exercism/.git/hooks/update.sample\n",
      "\tlast accessed: 1590284217.2923944\n",
      "\tsize: 3610\n",
      "Checking /Users/mmmanueg/GitLab/Exercism/.git/refs\n",
      "Checking /Users/mmmanueg/GitLab/Exercism/.git/refs/heads\n",
      "File: /Users/mmmanueg/GitLab/Exercism/.git/refs/heads/master\n",
      "\tlast accessed: 1590284217.2910473\n",
      "\tsize: 41\n",
      "Checking /Users/mmmanueg/GitLab/Exercism/.git/refs/tags\n",
      "Checking /Users/mmmanueg/GitLab/Exercism/.git/refs/remotes\n",
      "Checking /Users/mmmanueg/GitLab/Exercism/.git/refs/remotes/origin\n",
      "File: /Users/mmmanueg/GitLab/Exercism/.git/refs/remotes/origin/master\n",
      "\tlast accessed: 1590284217.2909174\n",
      "\tsize: 41\n"
     ]
    }
   ],
   "source": [
    "walk_path('/Users/mmmanueg/GitLab/Exercism/')"
   ]
  },
  {
   "cell_type": "markdown",
   "metadata": {},
   "source": [
    "## Paths as objects using pathlib\n",
    "\n",
    "pathlib represents paths as objects instead of strings, let's re-write the function that searches for an .rc file:"
   ]
  },
  {
   "cell_type": "code",
   "execution_count": 9,
   "metadata": {},
   "outputs": [
    {
     "name": "stdout",
     "output_type": "stream",
     "text": [
      "import pathlib\r\n",
      "import os\r\n",
      "\r\n",
      "def find_rc(rc_name='.examplerc'):\r\n",
      "    \r\n",
      "    # Check for ENV variable\r\n",
      "    var_name = 'EXAMPLERC_DIR'\r\n",
      "    # pathlib does not support ENV variables, so we have to use os.environ for this\r\n",
      "    example_dir = os.environ.get(var_name)\r\n",
      "    if example_dir:\r\n",
      "        dir_path = pathlib.Path(example_dir)\r\n",
      "        # syntax for creating Path objects = parent path + forward slash \"/\" + string\r\n",
      "        config_path = dir_path / rc_name\r\n",
      "        print(f'Checking {config_path}')\r\n",
      "        if config_path.exists():\r\n",
      "            # return the path object as a string\r\n",
      "            return config_path.as_postix()\r\n",
      "        \r\n",
      "    # Check current working directory\r\n",
      "    config_path = pathlib.Path.cwd() / rc_name\r\n",
      "    print(f'Checking {config_path}')\r\n",
      "    if config_path.exists():\r\n",
      "        return config_path.as_postix()\r\n",
      "    \r\n",
      "    # Check user's home directory\r\n",
      "    config_path = pathlib.Path.home() / rc_name\r\n",
      "    print(f'Checking {config_path}')\r\n",
      "    if config_path.exists():\r\n",
      "        return config_path.as_postix()\r\n",
      "\r\n",
      "    # Check directory of this file\r\n",
      "    file_path = pathlib.Path(__file__).resolve()\r\n",
      "    parent_path = file_path.parent\r\n",
      "    config_path = parent_path / rc_name\r\n",
      "    print(f'Checking {config_path}')\r\n",
      "    if config_path.exists():\r\n",
      "        return config_path.as_postix()\r\n",
      "\r\n",
      "    print(f'File {rc_name} has not been found')\r\n",
      "\r\n",
      "if __name__ == '__main__':\r\n",
      "    find_rc()\r\n"
     ]
    }
   ],
   "source": [
    "!cat find_rc_pathlib.py"
   ]
  },
  {
   "cell_type": "code",
   "execution_count": 10,
   "metadata": {},
   "outputs": [
    {
     "name": "stdout",
     "output_type": "stream",
     "text": [
      "Checking /Users/mmmanueg/GitHub/Dev/Python/Python_For_DevOps/Chapter_2_Automating_File_System/The_os_Module/.examplerc\r\n",
      "Checking /Users/mmmanueg/.examplerc\r\n",
      "Checking /Users/mmmanueg/GitHub/Dev/Python/Python_For_DevOps/Chapter_2_Automating_File_System/The_os_Module/.examplerc\r\n",
      "File .examplerc has not been found\r\n"
     ]
    }
   ],
   "source": [
    "!python find_rc_pathlib.py"
   ]
  }
 ],
 "metadata": {
  "kernelspec": {
   "display_name": "Python 3",
   "language": "python",
   "name": "python3"
  },
  "language_info": {
   "codemirror_mode": {
    "name": "ipython",
    "version": 3
   },
   "file_extension": ".py",
   "mimetype": "text/x-python",
   "name": "python",
   "nbconvert_exporter": "python",
   "pygments_lexer": "ipython3",
   "version": "3.8.2"
  }
 },
 "nbformat": 4,
 "nbformat_minor": 4
}
