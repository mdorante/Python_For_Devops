{
 "cells": [
  {
   "cell_type": "code",
   "execution_count": 11,
   "metadata": {},
   "outputs": [
    {
     "data": {
      "text/plain": [
       "['find_rc_os.py',\n",
       " 'walk_path.py',\n",
       " 'The os Module (and pathlib).ipynb',\n",
       " '.ipynb_checkpoints',\n",
       " 'test',\n",
       " 'find_rc_pathlib.py']"
      ]
     },
     "execution_count": 11,
     "metadata": {},
     "output_type": "execute_result"
    }
   ],
   "source": [
    "import os\n",
    "\n",
    "# List the contents of a directory\n",
    "os.listdir('.')"
   ]
  },
  {
   "cell_type": "code",
   "execution_count": 12,
   "metadata": {},
   "outputs": [
    {
     "data": {
      "text/plain": [
       "['test_file.txt']"
      ]
     },
     "execution_count": 12,
     "metadata": {},
     "output_type": "execute_result"
    }
   ],
   "source": [
    "os.listdir('test/')"
   ]
  },
  {
   "cell_type": "code",
   "execution_count": 13,
   "metadata": {},
   "outputs": [],
   "source": [
    "# Rename a file or directory\n",
    "os.rename('test', 'test1')"
   ]
  },
  {
   "cell_type": "code",
   "execution_count": 14,
   "metadata": {},
   "outputs": [
    {
     "name": "stdout",
     "output_type": "stream",
     "text": [
      "total 0\r\n",
      "-rw-r--r-- 1 vagrant vagrant 0 Jun 11 03:17 test_file.txt\r\n"
     ]
    }
   ],
   "source": [
    "!ls -l test1"
   ]
  },
  {
   "cell_type": "code",
   "execution_count": 15,
   "metadata": {},
   "outputs": [],
   "source": [
    "# Change the permissions of a file or directory\n",
    "os.chmod('test1/test_file.txt', 0o777)"
   ]
  },
  {
   "cell_type": "code",
   "execution_count": 16,
   "metadata": {},
   "outputs": [],
   "source": [
    "# create a directory\n",
    "os.mkdir('test2')"
   ]
  },
  {
   "cell_type": "code",
   "execution_count": 17,
   "metadata": {},
   "outputs": [
    {
     "name": "stdout",
     "output_type": "stream",
     "text": [
      "total 44\r\n",
      "-rw-r--r-- 1 vagrant vagrant  1149 Jun  9 10:18  find_rc_os.py\r\n",
      "-rw-r--r-- 1 vagrant vagrant  1358 Jun  9 10:18  find_rc_pathlib.py\r\n",
      "drwxr-xr-x 2 vagrant vagrant  4096 Jun 11 03:17  test1\r\n",
      "drwxr-xr-x 2 vagrant vagrant  4096 Jun 11 03:19  test2\r\n",
      "-rw-r--r-- 1 vagrant vagrant 21466 Jun 11 03:18 'The os Module (and pathlib).ipynb'\r\n",
      "-rw-r--r-- 1 vagrant vagrant   607 Jun  9 10:18  walk_path.py\r\n"
     ]
    }
   ],
   "source": [
    "!ls -l"
   ]
  },
  {
   "cell_type": "code",
   "execution_count": 18,
   "metadata": {},
   "outputs": [],
   "source": [
    "# make a directory path\n",
    "os.makedirs('test3/new/dir/path')"
   ]
  },
  {
   "cell_type": "code",
   "execution_count": 19,
   "metadata": {},
   "outputs": [
    {
     "name": "stdout",
     "output_type": "stream",
     "text": [
      ".:\r\n",
      "total 48\r\n",
      "-rw-r--r-- 1 vagrant vagrant  1149 Jun  9 10:18  find_rc_os.py\r\n",
      "-rw-r--r-- 1 vagrant vagrant  1358 Jun  9 10:18  find_rc_pathlib.py\r\n",
      "drwxr-xr-x 2 vagrant vagrant  4096 Jun 11 03:17  test1\r\n",
      "drwxr-xr-x 2 vagrant vagrant  4096 Jun 11 03:19  test2\r\n",
      "drwxr-xr-x 3 vagrant vagrant  4096 Jun 11 03:19  test3\r\n",
      "-rw-r--r-- 1 vagrant vagrant 21466 Jun 11 03:18 'The os Module (and pathlib).ipynb'\r\n",
      "-rw-r--r-- 1 vagrant vagrant   607 Jun  9 10:18  walk_path.py\r\n",
      "\r\n",
      "./test1:\r\n",
      "total 0\r\n",
      "-rwxrwxrwx 1 vagrant vagrant 0 Jun 11 03:17 test_file.txt\r\n",
      "\r\n",
      "./test2:\r\n",
      "total 0\r\n",
      "\r\n",
      "./test3:\r\n",
      "total 4\r\n",
      "drwxr-xr-x 3 vagrant vagrant 4096 Jun 11 03:19 new\r\n",
      "\r\n",
      "./test3/new:\r\n",
      "total 4\r\n",
      "drwxr-xr-x 3 vagrant vagrant 4096 Jun 11 03:19 dir\r\n",
      "\r\n",
      "./test3/new/dir:\r\n",
      "total 4\r\n",
      "drwxr-xr-x 2 vagrant vagrant 4096 Jun 11 03:19 path\r\n",
      "\r\n",
      "./test3/new/dir/path:\r\n",
      "total 0\r\n"
     ]
    }
   ],
   "source": [
    "!ls -lR"
   ]
  },
  {
   "cell_type": "code",
   "execution_count": 20,
   "metadata": {},
   "outputs": [],
   "source": [
    "# delete a file\n",
    "os.remove('test1/test_file.txt')"
   ]
  },
  {
   "cell_type": "code",
   "execution_count": 21,
   "metadata": {},
   "outputs": [
    {
     "name": "stdout",
     "output_type": "stream",
     "text": [
      ".:\r\n",
      "total 48\r\n",
      "-rw-r--r-- 1 vagrant vagrant  1149 Jun  9 10:18  find_rc_os.py\r\n",
      "-rw-r--r-- 1 vagrant vagrant  1358 Jun  9 10:18  find_rc_pathlib.py\r\n",
      "drwxr-xr-x 2 vagrant vagrant  4096 Jun 11 03:19  test1\r\n",
      "drwxr-xr-x 2 vagrant vagrant  4096 Jun 11 03:19  test2\r\n",
      "drwxr-xr-x 3 vagrant vagrant  4096 Jun 11 03:19  test3\r\n",
      "-rw-r--r-- 1 vagrant vagrant 21466 Jun 11 03:18 'The os Module (and pathlib).ipynb'\r\n",
      "-rw-r--r-- 1 vagrant vagrant   607 Jun  9 10:18  walk_path.py\r\n",
      "\r\n",
      "./test1:\r\n",
      "total 0\r\n",
      "\r\n",
      "./test2:\r\n",
      "total 0\r\n",
      "\r\n",
      "./test3:\r\n",
      "total 4\r\n",
      "drwxr-xr-x 3 vagrant vagrant 4096 Jun 11 03:19 new\r\n",
      "\r\n",
      "./test3/new:\r\n",
      "total 4\r\n",
      "drwxr-xr-x 3 vagrant vagrant 4096 Jun 11 03:19 dir\r\n",
      "\r\n",
      "./test3/new/dir:\r\n",
      "total 4\r\n",
      "drwxr-xr-x 2 vagrant vagrant 4096 Jun 11 03:19 path\r\n",
      "\r\n",
      "./test3/new/dir/path:\r\n",
      "total 0\r\n"
     ]
    }
   ],
   "source": [
    "!ls -lR"
   ]
  },
  {
   "cell_type": "code",
   "execution_count": 22,
   "metadata": {},
   "outputs": [],
   "source": [
    "# remove a directory\n",
    "os.rmdir('test1')"
   ]
  },
  {
   "cell_type": "code",
   "execution_count": 23,
   "metadata": {},
   "outputs": [
    {
     "name": "stdout",
     "output_type": "stream",
     "text": [
      ".:\r\n",
      "total 44\r\n",
      "-rw-r--r-- 1 vagrant vagrant  1149 Jun  9 10:18  find_rc_os.py\r\n",
      "-rw-r--r-- 1 vagrant vagrant  1358 Jun  9 10:18  find_rc_pathlib.py\r\n",
      "drwxr-xr-x 2 vagrant vagrant  4096 Jun 11 03:19  test2\r\n",
      "drwxr-xr-x 3 vagrant vagrant  4096 Jun 11 03:19  test3\r\n",
      "-rw-r--r-- 1 vagrant vagrant 21466 Jun 11 03:18 'The os Module (and pathlib).ipynb'\r\n",
      "-rw-r--r-- 1 vagrant vagrant   607 Jun  9 10:18  walk_path.py\r\n",
      "\r\n",
      "./test2:\r\n",
      "total 0\r\n",
      "\r\n",
      "./test3:\r\n",
      "total 4\r\n",
      "drwxr-xr-x 3 vagrant vagrant 4096 Jun 11 03:19 new\r\n",
      "\r\n",
      "./test3/new:\r\n",
      "total 4\r\n",
      "drwxr-xr-x 3 vagrant vagrant 4096 Jun 11 03:19 dir\r\n",
      "\r\n",
      "./test3/new/dir:\r\n",
      "total 4\r\n",
      "drwxr-xr-x 2 vagrant vagrant 4096 Jun 11 03:19 path\r\n",
      "\r\n",
      "./test3/new/dir/path:\r\n",
      "total 0\r\n"
     ]
    }
   ],
   "source": [
    "!ls -lR"
   ]
  },
  {
   "cell_type": "code",
   "execution_count": 24,
   "metadata": {},
   "outputs": [],
   "source": [
    "# remove directories recursively\n",
    "os.removedirs('test3/new/dir/path/')"
   ]
  },
  {
   "cell_type": "code",
   "execution_count": 25,
   "metadata": {},
   "outputs": [
    {
     "name": "stdout",
     "output_type": "stream",
     "text": [
      ".:\r\n",
      "total 40\r\n",
      "-rw-r--r-- 1 vagrant vagrant  1149 Jun  9 10:18  find_rc_os.py\r\n",
      "-rw-r--r-- 1 vagrant vagrant  1358 Jun  9 10:18  find_rc_pathlib.py\r\n",
      "drwxr-xr-x 2 vagrant vagrant  4096 Jun 11 03:19  test2\r\n",
      "-rw-r--r-- 1 vagrant vagrant 21466 Jun 11 03:18 'The os Module (and pathlib).ipynb'\r\n",
      "-rw-r--r-- 1 vagrant vagrant   607 Jun  9 10:18  walk_path.py\r\n",
      "\r\n",
      "./test2:\r\n",
      "total 0\r\n"
     ]
    }
   ],
   "source": [
    "!ls -lR"
   ]
  },
  {
   "cell_type": "code",
   "execution_count": 26,
   "metadata": {},
   "outputs": [
    {
     "data": {
      "text/plain": [
       "os.stat_result(st_mode=16877, st_ino=1055958, st_dev=2049, st_nlink=2, st_uid=1000, st_gid=1000, st_size=4096, st_atime=1591845590, st_mtime=1591845541, st_ctime=1591845541)"
      ]
     },
     "execution_count": 26,
     "metadata": {},
     "output_type": "execute_result"
    }
   ],
   "source": [
    "# get stats about a file or directory\n",
    "os.stat('test2/')"
   ]
  },
  {
   "cell_type": "markdown",
   "metadata": {},
   "source": [
    "## Managing files and directories using os.path"
   ]
  },
  {
   "cell_type": "code",
   "execution_count": 27,
   "metadata": {},
   "outputs": [],
   "source": [
    "# get current working directory\n",
    "pwd = os.getcwd()"
   ]
  },
  {
   "cell_type": "code",
   "execution_count": 28,
   "metadata": {},
   "outputs": [
    {
     "data": {
      "text/plain": [
       "'/home/vagrant/GitHub/Python/Python_For_Devops/Chapter_2_Automating_File_System/The_os_Module'"
      ]
     },
     "execution_count": 28,
     "metadata": {},
     "output_type": "execute_result"
    }
   ],
   "source": [
    "pwd"
   ]
  },
  {
   "cell_type": "code",
   "execution_count": 29,
   "metadata": {},
   "outputs": [
    {
     "data": {
      "text/plain": [
       "('/home/vagrant/GitHub/Python/Python_For_Devops/Chapter_2_Automating_File_System',\n",
       " 'The_os_Module')"
      ]
     },
     "execution_count": 29,
     "metadata": {},
     "output_type": "execute_result"
    }
   ],
   "source": [
    "# split the lowest level of pwd from the rest of the path\n",
    "os.path.split(pwd)"
   ]
  },
  {
   "cell_type": "code",
   "execution_count": 30,
   "metadata": {},
   "outputs": [
    {
     "data": {
      "text/plain": [
       "'/home/vagrant/GitHub/Python/Python_For_Devops/Chapter_2_Automating_File_System'"
      ]
     },
     "execution_count": 30,
     "metadata": {},
     "output_type": "execute_result"
    }
   ],
   "source": [
    "# return the path of the parent directory\n",
    "os.path.dirname(pwd)"
   ]
  },
  {
   "cell_type": "code",
   "execution_count": 31,
   "metadata": {},
   "outputs": [
    {
     "data": {
      "text/plain": [
       "'The_os_Module'"
      ]
     },
     "execution_count": 31,
     "metadata": {},
     "output_type": "execute_result"
    }
   ],
   "source": [
    "# return the lowest level of pwd\n",
    "os.path.basename(pwd)"
   ]
  },
  {
   "cell_type": "code",
   "execution_count": 32,
   "metadata": {},
   "outputs": [
    {
     "name": "stdout",
     "output_type": "stream",
     "text": [
      "/home/vagrant/GitHub/Python/Python_For_Devops/Chapter_2_Automating_File_System\n",
      "/home/vagrant/GitHub/Python/Python_For_Devops\n",
      "/home/vagrant/GitHub/Python\n",
      "/home/vagrant/GitHub\n",
      "/home/vagrant\n",
      "/home\n",
      "/\n"
     ]
    }
   ],
   "source": [
    "# Walk up a directory tree\n",
    "while os.path.basename(pwd):\n",
    "    pwd = os.path.dirname(pwd)\n",
    "    print(pwd)"
   ]
  },
  {
   "cell_type": "markdown",
   "metadata": {},
   "source": [
    "## Function that finds an .rc file\n",
    "\n",
    "These are common in UNIX systems, i.e. ```.vimrc```, ```.zshrc```"
   ]
  },
  {
   "cell_type": "code",
   "execution_count": 33,
   "metadata": {},
   "outputs": [
    {
     "name": "stdout",
     "output_type": "stream",
     "text": [
      "import os\r\n",
      "\r\n",
      "def find_rc(rc_name='.examplerc'):\r\n",
      "\r\n",
      "    # Check for ENV variable\r\n",
      "    var_name = 'EXAMPLE_RC_DIR'\r\n",
      "    if var_name in os.environ:\r\n",
      "        var_path = os.path.join(f'${EXAMPLE_RC_DIR}', rc_name)\r\n",
      "        config_path = os.path.expandvars(var_path)\r\n",
      "        print(f'Checking {config_path}')\r\n",
      "        if os.path.exists(config_path):\r\n",
      "            return config_path\r\n",
      "\r\n",
      "    # Check current working directory\r\n",
      "    config_path = os.path.join(os.getcwd(), rc_name)\r\n",
      "    print(f'Checking {config_path}')\r\n",
      "    if os.path.exists(config_path):\r\n",
      "        return config_path\r\n",
      "\r\n",
      "    # Check user's home directory\r\n",
      "    home_dir = os.path.expanduser('~/')\r\n",
      "    config_path = os.path.join(home_dir, rc_name)\r\n",
      "    print(f'Checking {config_path}')\r\n",
      "    if os.path.exists(config_path):\r\n",
      "        return config_path\r\n",
      "\r\n",
      "    # Check directory of this file\r\n",
      "    file_path = os.path.abspath(__file__)\r\n",
      "    parent_path = os.path.dirname(file_path)\r\n",
      "    config_path = os.path.join(parent_path, rc_name)\r\n",
      "    print(f'Checking {config_path}')\r\n",
      "    if os.path.exists(config_path):\r\n",
      "        return config_path\r\n",
      "\r\n",
      "    print(f'File {rc_name} has not been found')\r\n",
      "\r\n",
      "if __name__ == '__main__':\r\n",
      "    find_rc()\r\n"
     ]
    }
   ],
   "source": [
    "!cat find_rc_os.py"
   ]
  },
  {
   "cell_type": "code",
   "execution_count": 34,
   "metadata": {},
   "outputs": [
    {
     "name": "stdout",
     "output_type": "stream",
     "text": [
      "Checking /home/vagrant/GitHub/Python/Python_For_Devops/Chapter_2_Automating_File_System/The_os_Module/.examplerc\r\n",
      "Checking /home/vagrant/.examplerc\r\n",
      "Checking /home/vagrant/GitHub/Python/Python_For_Devops/Chapter_2_Automating_File_System/The_os_Module/.examplerc\r\n",
      "File .examplerc has not been found\r\n"
     ]
    }
   ],
   "source": [
    "!python find_rc_os.py"
   ]
  },
  {
   "cell_type": "markdown",
   "metadata": {},
   "source": [
    "## Use path to walk down a directory tree and report the size and last access time of each file found"
   ]
  },
  {
   "cell_type": "code",
   "execution_count": 35,
   "metadata": {},
   "outputs": [
    {
     "name": "stdout",
     "output_type": "stream",
     "text": [
      "import os\r\n",
      "import fire\r\n",
      "\r\n",
      "\r\n",
      "def walk_path(parent_path):\r\n",
      "    print(f'Checking: {parent_path}')\r\n",
      "    childs = os.listdir(parent_path)\r\n",
      "\r\n",
      "    for child in childs:\r\n",
      "        child_path = os.path.join(parent_path, child)\r\n",
      "        if os.path.isfile(child_path):\r\n",
      "            last_access = os.path.getatime(child_path)\r\n",
      "            size = os.path.getsize(child_path)\r\n",
      "            print(f'File: {child_path}')\r\n",
      "            print(f'\\tlast accessed: {last_access}')\r\n",
      "            print(f'\\tsize: {size}')\r\n",
      "        elif os.path.isdir(child_path):\r\n",
      "            walk_path(child_path)\r\n",
      "\r\n",
      "\r\n",
      "if __name__ == '__main__':\r\n",
      "    fire.Fire(walk_path)\r\n"
     ]
    }
   ],
   "source": [
    "!cat walk_path.py"
   ]
  },
  {
   "cell_type": "code",
   "execution_count": 36,
   "metadata": {},
   "outputs": [
    {
     "name": "stdout",
     "output_type": "stream",
     "text": [
      "Checking: /home/vagrant/GitHub/Exercism/python/robot-name/\r\n",
      "File: /home/vagrant/GitHub/Exercism/python/robot-name/README.md\r\n",
      "\tlast accessed: 1591787032.6773317\r\n",
      "\tsize: 2315\r\n",
      "Checking: /home/vagrant/GitHub/Exercism/python/robot-name/.exercism\r\n",
      "File: /home/vagrant/GitHub/Exercism/python/robot-name/.exercism/metadata.json\r\n",
      "\tlast accessed: 1591785012.5181901\r\n",
      "\tsize: 217\r\n",
      "File: /home/vagrant/GitHub/Exercism/python/robot-name/robot_name.py\r\n",
      "\tlast accessed: 1591786992.8587546\r\n",
      "\tsize: 401\r\n",
      "Checking: /home/vagrant/GitHub/Exercism/python/robot-name/__pycache__\r\n",
      "File: /home/vagrant/GitHub/Exercism/python/robot-name/__pycache__/robot_name.cpython-38.pyc\r\n",
      "\tlast accessed: 1591786992.8587546\r\n",
      "\tsize: 886\r\n",
      "File: /home/vagrant/GitHub/Exercism/python/robot-name/robot_name_test.py\r\n",
      "\tlast accessed: 1591786458.9202561\r\n",
      "\tsize: 1234\r\n"
     ]
    }
   ],
   "source": [
    "!python walk_path.py /home/vagrant/GitHub/Exercism/python/robot-name/"
   ]
  },
  {
   "cell_type": "markdown",
   "metadata": {},
   "source": [
    "## Walking directory trees using os.walk"
   ]
  },
  {
   "cell_type": "code",
   "execution_count": 37,
   "metadata": {},
   "outputs": [],
   "source": [
    "import os\n",
    "\n",
    "def walk_path(parent_path):\n",
    "    for parent_path, directories, files in os.walk(parent_path):\n",
    "        print(f'Checking {parent_path}')\n",
    "        for file_name in files:\n",
    "            file_path = os.path.join(parent_path, file_name)\n",
    "            last_access = os.path.getatime(file_path)\n",
    "            size = os.path.getsize(file_path)\n",
    "            print(f'File: {file_path}')\n",
    "            print(f'\\tlast accessed: {last_access}')\n",
    "            print(f'\\tsize: {size}')"
   ]
  },
  {
   "cell_type": "code",
   "execution_count": 38,
   "metadata": {},
   "outputs": [
    {
     "name": "stdout",
     "output_type": "stream",
     "text": [
      "Checking /home/vagrant/GitHub/Exercism/python/robot-name/\n",
      "File: /home/vagrant/GitHub/Exercism/python/robot-name/README.md\n",
      "\tlast accessed: 1591787032.6773317\n",
      "\tsize: 2315\n",
      "File: /home/vagrant/GitHub/Exercism/python/robot-name/robot_name.py\n",
      "\tlast accessed: 1591786992.8587546\n",
      "\tsize: 401\n",
      "File: /home/vagrant/GitHub/Exercism/python/robot-name/robot_name_test.py\n",
      "\tlast accessed: 1591786458.9202561\n",
      "\tsize: 1234\n",
      "Checking /home/vagrant/GitHub/Exercism/python/robot-name/.exercism\n",
      "File: /home/vagrant/GitHub/Exercism/python/robot-name/.exercism/metadata.json\n",
      "\tlast accessed: 1591785012.5181901\n",
      "\tsize: 217\n",
      "Checking /home/vagrant/GitHub/Exercism/python/robot-name/__pycache__\n",
      "File: /home/vagrant/GitHub/Exercism/python/robot-name/__pycache__/robot_name.cpython-38.pyc\n",
      "\tlast accessed: 1591786992.8587546\n",
      "\tsize: 886\n"
     ]
    }
   ],
   "source": [
    "walk_path('/home/vagrant/GitHub/Exercism/python/robot-name/')"
   ]
  },
  {
   "cell_type": "markdown",
   "metadata": {},
   "source": [
    "## Paths as objects using pathlib\n",
    "\n",
    "pathlib represents paths as objects instead of strings, let's re-write the function that searches for an .rc file:"
   ]
  },
  {
   "cell_type": "code",
   "execution_count": 39,
   "metadata": {},
   "outputs": [
    {
     "name": "stdout",
     "output_type": "stream",
     "text": [
      "import pathlib\r\n",
      "import os\r\n",
      "\r\n",
      "def find_rc(rc_name='.examplerc'):\r\n",
      "    \r\n",
      "    # Check for ENV variable\r\n",
      "    var_name = 'EXAMPLERC_DIR'\r\n",
      "    # pathlib does not support ENV variables, so we have to use os.environ for this\r\n",
      "    example_dir = os.environ.get(var_name)\r\n",
      "    if example_dir:\r\n",
      "        dir_path = pathlib.Path(example_dir)\r\n",
      "        # syntax for creating Path objects = parent path + forward slash \"/\" + string\r\n",
      "        config_path = dir_path / rc_name\r\n",
      "        print(f'Checking {config_path}')\r\n",
      "        if config_path.exists():\r\n",
      "            # return the path object as a string\r\n",
      "            return config_path.as_postix()\r\n",
      "        \r\n",
      "    # Check current working directory\r\n",
      "    config_path = pathlib.Path.cwd() / rc_name\r\n",
      "    print(f'Checking {config_path}')\r\n",
      "    if config_path.exists():\r\n",
      "        return config_path.as_postix()\r\n",
      "    \r\n",
      "    # Check user's home directory\r\n",
      "    config_path = pathlib.Path.home() / rc_name\r\n",
      "    print(f'Checking {config_path}')\r\n",
      "    if config_path.exists():\r\n",
      "        return config_path.as_postix()\r\n",
      "\r\n",
      "    # Check directory of this file\r\n",
      "    file_path = pathlib.Path(__file__).resolve()\r\n",
      "    parent_path = file_path.parent\r\n",
      "    config_path = parent_path / rc_name\r\n",
      "    print(f'Checking {config_path}')\r\n",
      "    if config_path.exists():\r\n",
      "        return config_path.as_postix()\r\n",
      "\r\n",
      "    print(f'File {rc_name} has not been found')\r\n",
      "\r\n",
      "if __name__ == '__main__':\r\n",
      "    find_rc()\r\n"
     ]
    }
   ],
   "source": [
    "!cat find_rc_pathlib.py"
   ]
  },
  {
   "cell_type": "code",
   "execution_count": 40,
   "metadata": {},
   "outputs": [
    {
     "name": "stdout",
     "output_type": "stream",
     "text": [
      "Checking /home/vagrant/GitHub/Python/Python_For_Devops/Chapter_2_Automating_File_System/The_os_Module/.examplerc\r\n",
      "Checking /home/vagrant/.examplerc\r\n",
      "Checking /home/vagrant/GitHub/Python/Python_For_Devops/Chapter_2_Automating_File_System/The_os_Module/.examplerc\r\n",
      "File .examplerc has not been found\r\n"
     ]
    }
   ],
   "source": [
    "!python find_rc_pathlib.py"
   ]
  }
 ],
 "metadata": {
  "kernelspec": {
   "display_name": "Python 3",
   "language": "python",
   "name": "python3"
  },
  "language_info": {
   "codemirror_mode": {
    "name": "ipython",
    "version": 3
   },
   "file_extension": ".py",
   "mimetype": "text/x-python",
   "name": "python",
   "nbconvert_exporter": "python",
   "pygments_lexer": "ipython3",
   "version": "3.8.3"
  }
 },
 "nbformat": 4,
 "nbformat_minor": 4
}
