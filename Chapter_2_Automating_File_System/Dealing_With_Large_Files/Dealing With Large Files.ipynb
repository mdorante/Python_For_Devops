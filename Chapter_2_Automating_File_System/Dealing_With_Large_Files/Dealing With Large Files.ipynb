{
 "cells": [
  {
   "cell_type": "markdown",
   "metadata": {},
   "source": [
    "When you have to deal with large files, it's easier to read the file one line at a time, process that line, and then continue on to the next. \n",
    "\n",
    "The lines are removed from memory automatically by Python's garbage collector, freeing up memory.\n",
    "\n",
    "***NOTE***: Python automatically allocates and frees memory, this is thanks to the garbage collector, which can be controlled using the ```gc``` method, but it's rarely necessary to do so."
   ]
  },
  {
   "cell_type": "markdown",
   "metadata": {},
   "source": [
    "Windows sets ```\\r\\n``` as a line ending, while UNIX sets ```\\n``` as a line ending, if you read a Windows written file on a Unix-based system, the ```\\r``` characters will appear as part of the text. With Python, you can open the file, read it one line at a time and rewrite it to a new file to automatically handle the line ending translation."
   ]
  },
  {
   "cell_type": "code",
   "execution_count": 20,
   "metadata": {},
   "outputs": [],
   "source": [
    "# You can use nested 'with' statements in order to loop through your source file\n",
    "# line by line and append the target file with each line\n",
    "with open('example0.txt', 'r') as data_file:\n",
    "    data_text = data_file.readlines()\n",
    "    "
   ]
  },
  {
   "cell_type": "code",
   "execution_count": 21,
   "metadata": {},
   "outputs": [
    {
     "data": {
      "text/plain": [
       "['Caesar\\tJulius\\t1\\t0\\t5\\t7\\t1\\t0\\t3\\t2\\t4\\t5\\t7\\t1\\t0\\t3\\t0\\t2\\t6\\t4\\t1\\t2\\\\r\\n',\n",
       " 'Livius\\tTitius\\t6\\t0\\t0\\t4\\t2\\t4\\t1\\t6\\t0\\t0\\t1\\t2\\t4\\t1\\t2\\t0\\t8\\t4\\t2\\t4\\\\r\\n',\n",
       " 'Aurelius\\tMarcus\\t6\\t8\\t9\\t5\\t1\\t2\\t4\\t4\\t8\\t3\\t5\\t0\\t2\\t2\\t6\\t5\\t9\\t1\\t1\\t6\\\\r\\n']"
      ]
     },
     "execution_count": 21,
     "metadata": {},
     "output_type": "execute_result"
    }
   ],
   "source": [
    "data_text"
   ]
  },
  {
   "cell_type": "code",
   "execution_count": 22,
   "metadata": {},
   "outputs": [],
   "source": [
    "with open('example0.txt', 'r') as source_file:\n",
    "    with open('example0_corrected.txt', 'w') as target_file:\n",
    "        for line in source_file:\n",
    "            target_file.write(line)"
   ]
  },
  {
   "cell_type": "code",
   "execution_count": 23,
   "metadata": {},
   "outputs": [
    {
     "data": {
      "text/plain": [
       "<_io.TextIOWrapper name='example0_corrected.txt' mode='w' encoding='UTF-8'>"
      ]
     },
     "execution_count": 23,
     "metadata": {},
     "output_type": "execute_result"
    }
   ],
   "source": [
    "target_file"
   ]
  },
  {
   "cell_type": "code",
   "execution_count": 24,
   "metadata": {},
   "outputs": [],
   "source": [
    "with open('example0_corrected.txt', 'r') as new_file:\n",
    "    new_file_text = new_file.readlines()"
   ]
  },
  {
   "cell_type": "code",
   "execution_count": 25,
   "metadata": {},
   "outputs": [
    {
     "data": {
      "text/plain": [
       "['Caesar\\tJulius\\t1\\t0\\t5\\t7\\t1\\t0\\t3\\t2\\t4\\t5\\t7\\t1\\t0\\t3\\t0\\t2\\t6\\t4\\t1\\t2\\\\r\\n',\n",
       " 'Livius\\tTitius\\t6\\t0\\t0\\t4\\t2\\t4\\t1\\t6\\t0\\t0\\t1\\t2\\t4\\t1\\t2\\t0\\t8\\t4\\t2\\t4\\\\r\\n',\n",
       " 'Aurelius\\tMarcus\\t6\\t8\\t9\\t5\\t1\\t2\\t4\\t4\\t8\\t3\\t5\\t0\\t2\\t2\\t6\\t5\\t9\\t1\\t1\\t6\\\\r\\n']"
      ]
     },
     "execution_count": 25,
     "metadata": {},
     "output_type": "execute_result"
    }
   ],
   "source": [
    "new_file_text"
   ]
  },
  {
   "cell_type": "markdown",
   "metadata": {},
   "source": [
    "If you can't use line endings to break up a file, such as a large binary file. You can read your data in chunks by specifying the amount of bytes to the ```read``` method."
   ]
  },
  {
   "cell_type": "code",
   "execution_count": null,
   "metadata": {},
   "outputs": [],
   "source": [
    "with open('jamie-street-MoDcnVRN5JU-unsplash.jpg', 'rb') as image_file:\n",
    "    while True:\n",
    "        image_file.read(1024)\n",
    "        # Insert code that processes your file below\n",
    "        pass"
   ]
  }
 ],
 "metadata": {
  "kernelspec": {
   "display_name": "Python 3",
   "language": "python",
   "name": "python3"
  },
  "language_info": {
   "codemirror_mode": {
    "name": "ipython",
    "version": 3
   },
   "file_extension": ".py",
   "mimetype": "text/x-python",
   "name": "python",
   "nbconvert_exporter": "python",
   "pygments_lexer": "ipython3",
   "version": "3.8.3"
  }
 },
 "nbformat": 4,
 "nbformat_minor": 4
}
