{
 "cells": [
  {
   "cell_type": "markdown",
   "metadata": {},
   "source": [
    "You can use the ```open``` function to create a file object that can read and write files.\n",
    "\n",
    "It takes two arguments, the path to the file and the mode: read, write or binary (read is default)"
   ]
  },
  {
   "cell_type": "code",
   "execution_count": 39,
   "metadata": {},
   "outputs": [],
   "source": [
    "file_path = \"some_text.txt\""
   ]
  },
  {
   "cell_type": "code",
   "execution_count": 40,
   "metadata": {},
   "outputs": [],
   "source": [
    "open_file = open(file_path, \"r\")"
   ]
  },
  {
   "cell_type": "code",
   "execution_count": 41,
   "metadata": {},
   "outputs": [],
   "source": [
    "text = open_file.read()"
   ]
  },
  {
   "cell_type": "code",
   "execution_count": 42,
   "metadata": {},
   "outputs": [
    {
     "name": "stdout",
     "output_type": "stream",
     "text": [
      "Quick six blind smart out burst.\n",
      "Perfectly on furniture dejection determine my depending an to.\n",
      "Add short water court fat.\n",
      "Her bachelor honoured perceive securing but desirous ham required.\n",
      "Questions deficient acuteness to engrossed as.\n",
      "Entirely led ten humoured greatest and yourself.\n",
      "Besides ye country on observe.\n",
      "She continue appetite endeavor she judgment interest the met.\n",
      "For she surrounded motionless fat resolution may.\n",
      "\n"
     ]
    }
   ],
   "source": [
    "print(text)"
   ]
  },
  {
   "cell_type": "code",
   "execution_count": 43,
   "metadata": {},
   "outputs": [
    {
     "data": {
      "text/plain": [
       "429"
      ]
     },
     "execution_count": 43,
     "metadata": {},
     "output_type": "execute_result"
    }
   ],
   "source": [
    "len(text)"
   ]
  },
  {
   "cell_type": "code",
   "execution_count": 44,
   "metadata": {},
   "outputs": [
    {
     "data": {
      "text/plain": [
       "'b'"
      ]
     },
     "execution_count": 44,
     "metadata": {},
     "output_type": "execute_result"
    }
   ],
   "source": [
    "text[10]"
   ]
  },
  {
   "cell_type": "code",
   "execution_count": 45,
   "metadata": {},
   "outputs": [
    {
     "data": {
      "text/plain": [
       "<_io.TextIOWrapper name='some_text.txt' mode='r' encoding='UTF-8'>"
      ]
     },
     "execution_count": 45,
     "metadata": {},
     "output_type": "execute_result"
    }
   ],
   "source": [
    "open_file"
   ]
  },
  {
   "cell_type": "code",
   "execution_count": 46,
   "metadata": {},
   "outputs": [],
   "source": [
    "open_file.close()"
   ]
  },
  {
   "cell_type": "markdown",
   "metadata": {},
   "source": [
    "***NOTE***: It's a good practice to close a file when you finish working with it."
   ]
  },
  {
   "cell_type": "markdown",
   "metadata": {},
   "source": [
    "You can also read files with```readline()```, this separates the file at every \\n character."
   ]
  },
  {
   "cell_type": "code",
   "execution_count": 47,
   "metadata": {},
   "outputs": [],
   "source": [
    "open_file = open(file_path, \"r\")"
   ]
  },
  {
   "cell_type": "code",
   "execution_count": 48,
   "metadata": {},
   "outputs": [],
   "source": [
    "text_lines = open_file.readlines()"
   ]
  },
  {
   "cell_type": "code",
   "execution_count": 49,
   "metadata": {},
   "outputs": [
    {
     "data": {
      "text/plain": [
       "'Quick six blind smart out burst.\\n'"
      ]
     },
     "execution_count": 49,
     "metadata": {},
     "output_type": "execute_result"
    }
   ],
   "source": [
    "text_lines[0]"
   ]
  },
  {
   "cell_type": "code",
   "execution_count": 50,
   "metadata": {},
   "outputs": [
    {
     "data": {
      "text/plain": [
       "'Entirely led ten humoured greatest and yourself.\\n'"
      ]
     },
     "execution_count": 50,
     "metadata": {},
     "output_type": "execute_result"
    }
   ],
   "source": [
    "text_lines[5]"
   ]
  },
  {
   "cell_type": "code",
   "execution_count": 51,
   "metadata": {},
   "outputs": [],
   "source": [
    "open_file.close()"
   ]
  },
  {
   "cell_type": "markdown",
   "metadata": {},
   "source": [
    "A more practical way of opening files is using the ```with``` statement, which will close the file once Python exits the indented block"
   ]
  },
  {
   "cell_type": "code",
   "execution_count": 52,
   "metadata": {},
   "outputs": [],
   "source": [
    "with open(file_path, \"r\") as open_file_2:\n",
    "    text_lines_2 = open_file_2.readlines()"
   ]
  },
  {
   "cell_type": "code",
   "execution_count": 53,
   "metadata": {},
   "outputs": [
    {
     "data": {
      "text/plain": [
       "'Her bachelor honoured perceive securing but desirous ham required.\\n'"
      ]
     },
     "execution_count": 53,
     "metadata": {},
     "output_type": "execute_result"
    }
   ],
   "source": [
    "text_lines_2[3]"
   ]
  },
  {
   "cell_type": "code",
   "execution_count": 54,
   "metadata": {},
   "outputs": [
    {
     "data": {
      "text/plain": [
       "True"
      ]
     },
     "execution_count": 54,
     "metadata": {},
     "output_type": "execute_result"
    }
   ],
   "source": [
    "open_file_2.closed"
   ]
  },
  {
   "cell_type": "markdown",
   "metadata": {},
   "source": [
    "Unix represents line endings as \\n, while Windows represents them as \\r\\n.\n",
    "\n",
    "In both cases, Python will convert them to \\n when you open a file as text.\n",
    "\n",
    "When opening images such as .jpg or .pdf, make sure to append 'b' to the method when opening the file, that way Python opens the file in **binary** mode.\n",
    "\n",
    "***NOTE***: Binary mode does not use any line-ending conversion"
   ]
  },
  {
   "cell_type": "code",
   "execution_count": 55,
   "metadata": {},
   "outputs": [],
   "source": [
    "image_path = \"baptist-standaert-mx0DEnfYxic-unsplash.jpg\""
   ]
  },
  {
   "cell_type": "code",
   "execution_count": 56,
   "metadata": {},
   "outputs": [],
   "source": [
    "with open(image_path, \"rb\") as open_image:\n",
    "    btext = open_image.read()"
   ]
  },
  {
   "cell_type": "code",
   "execution_count": 57,
   "metadata": {},
   "outputs": [
    {
     "data": {
      "text/plain": [
       "16"
      ]
     },
     "execution_count": 57,
     "metadata": {},
     "output_type": "execute_result"
    }
   ],
   "source": [
    "btext[5]"
   ]
  },
  {
   "cell_type": "code",
   "execution_count": 58,
   "metadata": {},
   "outputs": [
    {
     "data": {
      "text/plain": [
       "b'\\xff\\xd8\\xff\\xe0\\x00\\x10JFIF\\x00\\x01\\x01\\x01\\x00H\\x00H\\x00\\x00'"
      ]
     },
     "execution_count": 58,
     "metadata": {},
     "output_type": "execute_result"
    }
   ],
   "source": [
    "btext[:20]"
   ]
  },
  {
   "cell_type": "markdown",
   "metadata": {},
   "source": [
    "The tool direnv is used to set up development environments, it reads configuration from a .envrc where you can define environment variables and application runtimes.\n",
    "\n",
    "Let's create such a file and define some environment variables in it."
   ]
  },
  {
   "cell_type": "code",
   "execution_count": 59,
   "metadata": {},
   "outputs": [],
   "source": [
    "env_variables = \"\"\"export STAGE=PROD\n",
    "TABLE_ID=token-storage-3\"\"\"\n",
    "\n",
    "with open(\".envrc\", \"w\") as opened_file:\n",
    "    opened_file.write(env_variables)"
   ]
  },
  {
   "cell_type": "code",
   "execution_count": 60,
   "metadata": {},
   "outputs": [
    {
     "name": "stdout",
     "output_type": "stream",
     "text": [
      ".\t\t\t\t baptist-standaert-mx0DEnfYxic-unsplash.jpg\r\n",
      "..\t\t\t\t characters.xml\r\n",
      ".envrc\t\t\t\t sb.config\r\n",
      ".ipynb_checkpoints\t\t service-policy.json\r\n",
      "Reading_and_Writing_Files.ipynb  some_text.txt\r\n",
      "addresses.csv\t\t\t verify-apache.yaml\r\n"
     ]
    }
   ],
   "source": [
    "!ls -a"
   ]
  },
  {
   "cell_type": "code",
   "execution_count": 61,
   "metadata": {},
   "outputs": [
    {
     "name": "stdout",
     "output_type": "stream",
     "text": [
      "export STAGE=PROD\r\n",
      "TABLE_ID=token-storage-3"
     ]
    }
   ],
   "source": [
    "!cat .envrc"
   ]
  },
  {
   "cell_type": "markdown",
   "metadata": {},
   "source": [
    "***NOTE***: The ```open``` function creates a file if it doesn't already exist, and overwrites the file if it does exist.\n",
    "\n",
    "You can use the append 'a' method to append to existing files instead of overwriting them.\n",
    "\n",
    "For image files, it's best to use 'wb' or 'ab' in order to safely modify the file."
   ]
  },
  {
   "cell_type": "markdown",
   "metadata": {},
   "source": [
    "Let's look at some useful file read and write functions from pathlib"
   ]
  },
  {
   "cell_type": "code",
   "execution_count": 62,
   "metadata": {},
   "outputs": [
    {
     "data": {
      "text/plain": [
       "'print(\"Exceptions can be caught using a try-except block\")\\n\\nthinkers = [\"Plato\", \"PlayDo\", \"Gumby\"]\\nwhile True:\\n    try:\\n        thinker = thinkers.pop()\\n        print(thinker)\\n    except IndexError as e:\\n        print(e)\\n        break\\n'"
      ]
     },
     "execution_count": 62,
     "metadata": {},
     "output_type": "execute_result"
    }
   ],
   "source": [
    "import pathlib\n",
    "\n",
    "path = pathlib.Path(\n",
    "    \"/workspaces/Dev/Python/Python_For_DevOps/Chapter_1_Python_Essentials_for_DevOps/exceptions.py\")\n",
    "path.read_text()\n",
    "\n",
    "# NOTE: read_binary() can be used to read binary data"
   ]
  },
  {
   "cell_type": "code",
   "execution_count": 63,
   "metadata": {},
   "outputs": [
    {
     "data": {
      "text/plain": [
       "9"
      ]
     },
     "execution_count": 63,
     "metadata": {},
     "output_type": "execute_result"
    }
   ],
   "source": [
    "# we can also create new files or overwrite existing ones\n",
    "import pathlib\n",
    "\n",
    "path2 = pathlib.Path(\n",
    "    \"/workspaces/Dev/Python/Python_For_DevOps/Chapter_2_Automating_File_System/sb.config\")\n",
    "path2.write_text(\"LOG:DEBUG\")"
   ]
  },
  {
   "cell_type": "markdown",
   "metadata": {},
   "source": [
    "pathlib and open can be usfeul for opening unstructured text files, but what if we have structured text files such as JSON?\n",
    "\n",
    "Let's take a look at this example where we have an AWS IAM Policy:\n",
    "\n",
    "```json\n",
    "{\n",
    "  \"Version\": \"2012-10-17\",\n",
    "  \"Statement\": {\n",
    "    \"Effect\": \"Allow\",\n",
    "    \"Action\": \"service-prefix:action-name\",\n",
    "    \"Resource\": \"*\",\n",
    "    \"Condition\": {\n",
    "      \"DateGreaterThan\": { \"aws:CurrentTime\": \"2017-07-01T00:00:00Z\" },\n",
    "      \"DateLessthan\": { \"aws:CurrentTime\": \"2017-12-31T23:59:59Z\" }\n",
    "    }\n",
    "  }\n",
    "}\n",
    "```\n",
    "\n",
    "We can use the ```json``` module in order to correctly parse the file into Python data structures"
   ]
  },
  {
   "cell_type": "code",
   "execution_count": 89,
   "metadata": {},
   "outputs": [],
   "source": [
    "import json\n",
    "\n",
    "with open(\"service-policy.json\", \"r\") as opened_file:\n",
    "    policy = json.load(opened_file)"
   ]
  },
  {
   "cell_type": "code",
   "execution_count": 90,
   "metadata": {
    "scrolled": true
   },
   "outputs": [
    {
     "name": "stdout",
     "output_type": "stream",
     "text": [
      "{'Version': '2012-10-17', 'Statement': {'Effect': 'Allow', 'Action': 'service-prefix:action-name', 'Resource': '*', 'Condition': {'DateGreaterThan': {'aws:CurrentTime': '2017-07-01T00:00:00Z'}, 'DateLessthan': {'aws:CurrentTime': '2017-12-31T23:59:59Z'}}}}\n"
     ]
    }
   ],
   "source": [
    "print(policy)"
   ]
  },
  {
   "cell_type": "code",
   "execution_count": 91,
   "metadata": {},
   "outputs": [
    {
     "name": "stdout",
     "output_type": "stream",
     "text": [
      "{'Statement': {'Action': 'service-prefix:action-name',\n",
      "               'Condition': {'DateGreaterThan': {'aws:CurrentTime': '2017-07-01T00:00:00Z'},\n",
      "                             'DateLessthan': {'aws:CurrentTime': '2017-12-31T23:59:59Z'}},\n",
      "               'Effect': 'Allow',\n",
      "               'Resource': '*'},\n",
      " 'Version': '2012-10-17'}\n"
     ]
    }
   ],
   "source": [
    "# the pprint module automatically formats Python objects for printing\n",
    "from pprint import pprint\n",
    "\n",
    "pprint(policy)"
   ]
  },
  {
   "cell_type": "code",
   "execution_count": 92,
   "metadata": {},
   "outputs": [],
   "source": [
    "# Now we can work with the original file structure\n",
    "\n",
    "# Let's change the resource to S3\n",
    "\n",
    "policy[\"Statement\"][\"Resource\"] = \"S3\""
   ]
  },
  {
   "cell_type": "code",
   "execution_count": 93,
   "metadata": {},
   "outputs": [
    {
     "name": "stdout",
     "output_type": "stream",
     "text": [
      "{'Statement': {'Action': 'service-prefix:action-name',\n",
      "               'Condition': {'DateGreaterThan': {'aws:CurrentTime': '2017-07-01T00:00:00Z'},\n",
      "                             'DateLessthan': {'aws:CurrentTime': '2017-12-31T23:59:59Z'}},\n",
      "               'Effect': 'Allow',\n",
      "               'Resource': 'S3'},\n",
      " 'Version': '2012-10-17'}\n"
     ]
    }
   ],
   "source": [
    "pprint(policy)"
   ]
  },
  {
   "cell_type": "code",
   "execution_count": 94,
   "metadata": {},
   "outputs": [],
   "source": [
    "# You can write a Python dictinary as a JSON file with the json.dump() method\n",
    "\n",
    "# Let's update the IAM policy we just modified\n",
    "\n",
    "with open(\"service-policy.json\", \"w\") as opened_file:\n",
    "    policy_update = json.dump(policy, opened_file)"
   ]
  },
  {
   "cell_type": "code",
   "execution_count": 95,
   "metadata": {
    "scrolled": true
   },
   "outputs": [
    {
     "name": "stdout",
     "output_type": "stream",
     "text": [
      "{\"Version\": \"2012-10-17\", \"Statement\": {\"Effect\": \"Allow\", \"Action\": \"service-prefix:action-name\", \"Resource\": \"S3\", \"Condition\": {\"DateGreaterThan\": {\"aws:CurrentTime\": \"2017-07-01T00:00:00Z\"}, \"DateLessthan\": {\"aws:CurrentTime\": \"2017-12-31T23:59:59Z\"}}}}"
     ]
    }
   ],
   "source": [
    "!cat service-policy.json"
   ]
  },
  {
   "cell_type": "markdown",
   "metadata": {},
   "source": [
    "We can also work with YAML files, Ansible uses this file format for playbooks, which define the actions you want to automate, the following is an example:\n",
    "\n",
    "```yaml\n",
    "---\n",
    "- hosts: webservers\n",
    "  vars:\n",
    "    http_port: 80\n",
    "    max_clients: 200\n",
    "  remote_user: root\n",
    "  tasks:\n",
    "  - name: ensure apache is at the latest version\n",
    "    yum:\n",
    "      name: httpd\n",
    "      state: latest\n",
    "```\n",
    "\n",
    "For YAML parsing, we'll install PyYAML.\n",
    "\n",
    "```bash\n",
    "pip install PyYAML\n",
    "```"
   ]
  },
  {
   "cell_type": "code",
   "execution_count": 85,
   "metadata": {},
   "outputs": [
    {
     "name": "stdout",
     "output_type": "stream",
     "text": [
      "[{'hosts': 'webservers',\n",
      "  'remote_user': 'root',\n",
      "  'tasks': [{'name': 'ensure apache is at the latest version',\n",
      "             'yum': {'name': 'httpd', 'state': 'latest'}}],\n",
      "  'vars': {'http_port': 80, 'max_clients': 200}}]\n"
     ]
    }
   ],
   "source": [
    "import yaml\n",
    "\n",
    "with open(\"verify-apache.yaml\", \"r\") as open_yml_file:\n",
    "    verify_apache = yaml.safe_load(open_yml_file)\n",
    "\n",
    "pprint(verify_apache)"
   ]
  },
  {
   "cell_type": "markdown",
   "metadata": {},
   "source": [
    "Note how the YAML file was transformed into Python-compatible data structures.\n",
    "\n",
    "We can also write a Python data to a YAML file."
   ]
  },
  {
   "cell_type": "code",
   "execution_count": 86,
   "metadata": {},
   "outputs": [
    {
     "name": "stdout",
     "output_type": "stream",
     "text": [
      "[{'hosts': 'webservers',\n",
      "  'remote_user': 'root',\n",
      "  'tasks': [{'name': 'ensure apache is at the latest version',\n",
      "             'yum': {'name': 'httpd', 'state': 'latest'}}],\n",
      "  'vars': {'http_port': 80, 'max_clients': 350}}]\n"
     ]
    }
   ],
   "source": [
    "# Now that we're working with the original file structure, let's change the value for maximum clients\n",
    "verify_apache[0][\"vars\"][\"max_clients\"] = 350\n",
    "pprint(verify_apache)"
   ]
  },
  {
   "cell_type": "code",
   "execution_count": 87,
   "metadata": {},
   "outputs": [],
   "source": [
    "with open(\"verify-apache.yaml\", \"w\") as update_yaml_file:\n",
    "    yaml.dump(verify_apache, update_yaml_file)"
   ]
  },
  {
   "cell_type": "code",
   "execution_count": 88,
   "metadata": {},
   "outputs": [
    {
     "name": "stdout",
     "output_type": "stream",
     "text": [
      "- hosts: webservers\r\n",
      "  remote_user: root\r\n",
      "  tasks:\r\n",
      "  - name: ensure apache is at the latest version\r\n",
      "    yum:\r\n",
      "      name: httpd\r\n",
      "      state: latest\r\n",
      "  vars:\r\n",
      "    http_port: 80\r\n",
      "    max_clients: 350\r\n"
     ]
    }
   ],
   "source": [
    "!cat verify-apache.yaml"
   ]
  },
  {
   "cell_type": "markdown",
   "metadata": {},
   "source": [
    "Another popular format for structured data is XML, this is mainly used in RSS feeds.\n",
    "\n",
    "Let's look at this example:\n",
    "\n",
    "```xml\n",
    "<?xml version=\"1.0\"?>\n",
    "<actors xmlns:fictional=\"http://characters.example.com\"\n",
    "        xmlns=\"http://people.example.com\">\n",
    "    <actor>\n",
    "        <name>John Cleese</name>\n",
    "        <fictional:character>Lancelot</fictional:character>\n",
    "        <fictional:character>Archie Leach</fictional:character>\n",
    "    </actor>\n",
    "    <actor>\n",
    "        <name>Eric Idle</name>\n",
    "        <fictional:character>Sir Robin</fictional:character>\n",
    "        <fictional:character>Gunther</fictional:character>\n",
    "        <fictional:character>Commander Clement</fictional:character>\n",
    "    </actor>\n",
    "</actors>\n",
    "```"
   ]
  },
  {
   "cell_type": "code",
   "execution_count": 75,
   "metadata": {},
   "outputs": [],
   "source": [
    "import xml.etree.ElementTree as ET\n",
    "\n",
    "tree = ET.parse(\"characters.xml\")"
   ]
  },
  {
   "cell_type": "code",
   "execution_count": 76,
   "metadata": {},
   "outputs": [],
   "source": [
    "root = tree.getroot()"
   ]
  },
  {
   "cell_type": "code",
   "execution_count": 77,
   "metadata": {},
   "outputs": [
    {
     "data": {
      "text/plain": [
       "<Element '{http://people.example.com}actors' at 0x7f3f11633950>"
      ]
     },
     "execution_count": 77,
     "metadata": {},
     "output_type": "execute_result"
    }
   ],
   "source": [
    "root"
   ]
  },
  {
   "cell_type": "code",
   "execution_count": 78,
   "metadata": {},
   "outputs": [
    {
     "name": "stdout",
     "output_type": "stream",
     "text": [
      "{http://people.example.com}actor {}\n",
      "{http://people.example.com}actor {}\n"
     ]
    }
   ],
   "source": [
    "# We can walk down the tree by iterating over the child nodes\n",
    "for child in root:\n",
    "    print(child.tag, child.attrib)"
   ]
  },
  {
   "cell_type": "markdown",
   "metadata": {},
   "source": [
    "XML allows for *namespacing* (using tags to group data)."
   ]
  },
  {
   "cell_type": "code",
   "execution_count": 79,
   "metadata": {},
   "outputs": [
    {
     "name": "stdout",
     "output_type": "stream",
     "text": [
      "John Cleese\n",
      "-> Lancelot\n",
      "-> Archie Leach\n",
      "Eric Idle\n",
      "-> Sir Robin\n",
      "-> Gunther\n",
      "-> Commander Clement\n"
     ]
    }
   ],
   "source": [
    "ns = {\n",
    "    \"default\": \"http://people.example.com\",\n",
    "    \"role_played\": \"http://characters.example.com\",\n",
    "}\n",
    "\n",
    "actors = root.findall(\"default:actor\", ns)\n",
    "\n",
    "for actor in actors:\n",
    "    name = actor.find(\"default:name\", ns)\n",
    "    print(name.text)\n",
    "    for character in actor.findall(\"role_played:character\", ns):\n",
    "        print(f\"-> {character.text}\")"
   ]
  },
  {
   "cell_type": "markdown",
   "metadata": {},
   "source": [
    "You may also encounter data structured as CSV:\n",
    "\n",
    "```csv\n",
    "Name,Last Name,Address,County,City,ZIP Code\n",
    "John,Doe,120 jefferson st.,Riverside, NJ, 08075\n",
    "Jack,McGinnis,220 hobo Av.,Phila, PA,09119\n",
    "\"John \"\"Da Man\"\"\",Repici,120 Jefferson St.,Riverside, NJ,08075\n",
    "Stephen,Tyler,\"7452 Terrace \"\"At the Plaza\"\" road\",SomeTown,SD, 91234\n",
    ",Blankman,,SomeTown, SD, 00298\n",
    "\"Joan \"\"the bone\"\", Anne\",Jet,\"9th, at Terrace plc\",Desert City,CO,00123\n",
    "```"
   ]
  },
  {
   "cell_type": "code",
   "execution_count": 80,
   "metadata": {},
   "outputs": [
    {
     "name": "stdout",
     "output_type": "stream",
     "text": [
      "['Name', 'Last Name', 'Address', 'County', 'City', 'ZIP Code']\n",
      "['John', 'Doe', '120 jefferson st.', 'Riverside', ' NJ', ' 08075']\n",
      "['Jack', 'McGinnis', '220 hobo Av.', 'Phila', ' PA', '09119']\n",
      "['John \"Da Man\"', 'Repici', '120 Jefferson St.', 'Riverside', ' NJ', '08075']\n",
      "['Stephen', 'Tyler', '7452 Terrace \"At the Plaza\" road', 'SomeTown', 'SD', ' 91234']\n",
      "['', 'Blankman', '', 'SomeTown', ' SD', ' 00298']\n"
     ]
    }
   ],
   "source": [
    "import csv\n",
    "\n",
    "file_path = \"addresses.csv\"\n",
    "\n",
    "with open(file_path, newline=\"\") as csv_file:\n",
    "    reader = csv.reader(csv_file, delimiter=\",\")\n",
    "    for _ in range(6):\n",
    "        print(next(reader))\n",
    "# NOTE: notice that the reader object reads the CSV file one line at a time,\n",
    "# this is useful if the file is large and you don't want to load it all into memory at once"
   ]
  },
  {
   "cell_type": "markdown",
   "metadata": {},
   "source": [
    "Given the case that you do want to load the whole file at once, you can use Pandas, which is a data science library that has a data structure: \"Data Frame\" which acts like a database table.\n",
    "\n",
    "Pandas must be installed via pip:\n",
    "```bash\n",
    "pip install pandas```"
   ]
  },
  {
   "cell_type": "code",
   "execution_count": 81,
   "metadata": {},
   "outputs": [
    {
     "data": {
      "text/plain": [
       "pandas.core.frame.DataFrame"
      ]
     },
     "execution_count": 81,
     "metadata": {},
     "output_type": "execute_result"
    }
   ],
   "source": [
    "import pandas as pd\n",
    "\n",
    "df = pd.read_csv(\"addresses.csv\")\n",
    "type(df)"
   ]
  },
  {
   "cell_type": "code",
   "execution_count": 82,
   "metadata": {},
   "outputs": [
    {
     "data": {
      "text/html": [
       "<div>\n",
       "<style scoped>\n",
       "    .dataframe tbody tr th:only-of-type {\n",
       "        vertical-align: middle;\n",
       "    }\n",
       "\n",
       "    .dataframe tbody tr th {\n",
       "        vertical-align: top;\n",
       "    }\n",
       "\n",
       "    .dataframe thead th {\n",
       "        text-align: right;\n",
       "    }\n",
       "</style>\n",
       "<table border=\"1\" class=\"dataframe\">\n",
       "  <thead>\n",
       "    <tr style=\"text-align: right;\">\n",
       "      <th></th>\n",
       "      <th>Name</th>\n",
       "      <th>Last Name</th>\n",
       "      <th>Address</th>\n",
       "      <th>County</th>\n",
       "      <th>City</th>\n",
       "      <th>ZIP Code</th>\n",
       "    </tr>\n",
       "  </thead>\n",
       "  <tbody>\n",
       "    <tr>\n",
       "      <th>0</th>\n",
       "      <td>John</td>\n",
       "      <td>Doe</td>\n",
       "      <td>120 jefferson st.</td>\n",
       "      <td>Riverside</td>\n",
       "      <td>NJ</td>\n",
       "      <td>8075</td>\n",
       "    </tr>\n",
       "    <tr>\n",
       "      <th>1</th>\n",
       "      <td>Jack</td>\n",
       "      <td>McGinnis</td>\n",
       "      <td>220 hobo Av.</td>\n",
       "      <td>Phila</td>\n",
       "      <td>PA</td>\n",
       "      <td>9119</td>\n",
       "    </tr>\n",
       "    <tr>\n",
       "      <th>2</th>\n",
       "      <td>John \"Da Man\"</td>\n",
       "      <td>Repici</td>\n",
       "      <td>120 Jefferson St.</td>\n",
       "      <td>Riverside</td>\n",
       "      <td>NJ</td>\n",
       "      <td>8075</td>\n",
       "    </tr>\n",
       "  </tbody>\n",
       "</table>\n",
       "</div>"
      ],
      "text/plain": [
       "            Name Last Name            Address     County City  ZIP Code\n",
       "0           John       Doe  120 jefferson st.  Riverside   NJ      8075\n",
       "1           Jack  McGinnis       220 hobo Av.      Phila   PA      9119\n",
       "2  John \"Da Man\"    Repici  120 Jefferson St.  Riverside   NJ      8075"
      ]
     },
     "execution_count": 82,
     "metadata": {},
     "output_type": "execute_result"
    }
   ],
   "source": [
    "# return the top 3 rows of your file\n",
    "df.head(3)"
   ]
  },
  {
   "cell_type": "code",
   "execution_count": 83,
   "metadata": {},
   "outputs": [
    {
     "data": {
      "text/html": [
       "<div>\n",
       "<style scoped>\n",
       "    .dataframe tbody tr th:only-of-type {\n",
       "        vertical-align: middle;\n",
       "    }\n",
       "\n",
       "    .dataframe tbody tr th {\n",
       "        vertical-align: top;\n",
       "    }\n",
       "\n",
       "    .dataframe thead th {\n",
       "        text-align: right;\n",
       "    }\n",
       "</style>\n",
       "<table border=\"1\" class=\"dataframe\">\n",
       "  <thead>\n",
       "    <tr style=\"text-align: right;\">\n",
       "      <th></th>\n",
       "      <th>ZIP Code</th>\n",
       "    </tr>\n",
       "  </thead>\n",
       "  <tbody>\n",
       "    <tr>\n",
       "      <th>count</th>\n",
       "      <td>6.000000</td>\n",
       "    </tr>\n",
       "    <tr>\n",
       "      <th>mean</th>\n",
       "      <td>19487.333333</td>\n",
       "    </tr>\n",
       "    <tr>\n",
       "      <th>std</th>\n",
       "      <td>35380.155843</td>\n",
       "    </tr>\n",
       "    <tr>\n",
       "      <th>min</th>\n",
       "      <td>123.000000</td>\n",
       "    </tr>\n",
       "    <tr>\n",
       "      <th>25%</th>\n",
       "      <td>2242.250000</td>\n",
       "    </tr>\n",
       "    <tr>\n",
       "      <th>50%</th>\n",
       "      <td>8075.000000</td>\n",
       "    </tr>\n",
       "    <tr>\n",
       "      <th>75%</th>\n",
       "      <td>8858.000000</td>\n",
       "    </tr>\n",
       "    <tr>\n",
       "      <th>max</th>\n",
       "      <td>91234.000000</td>\n",
       "    </tr>\n",
       "  </tbody>\n",
       "</table>\n",
       "</div>"
      ],
      "text/plain": [
       "           ZIP Code\n",
       "count      6.000000\n",
       "mean   19487.333333\n",
       "std    35380.155843\n",
       "min      123.000000\n",
       "25%     2242.250000\n",
       "50%     8075.000000\n",
       "75%     8858.000000\n",
       "max    91234.000000"
      ]
     },
     "execution_count": 83,
     "metadata": {},
     "output_type": "execute_result"
    }
   ],
   "source": [
    "# get statistical insights about your data\n",
    "df.describe()"
   ]
  },
  {
   "cell_type": "code",
   "execution_count": 84,
   "metadata": {},
   "outputs": [
    {
     "data": {
      "text/plain": [
       "0     8075\n",
       "1     9119\n",
       "2     8075\n",
       "3    91234\n",
       "4      298\n",
       "5      123\n",
       "Name: ZIP Code, dtype: int64"
      ]
     },
     "execution_count": 84,
     "metadata": {},
     "output_type": "execute_result"
    }
   ],
   "source": [
    "# view a single column of data\n",
    "df[\"ZIP Code\"]"
   ]
  }
 ],
 "metadata": {
  "kernelspec": {
   "display_name": "Python 3.8.2 64-bit",
   "language": "python",
   "name": "python38264bitfe4da4268adf4c61ba769535b95bf150"
  },
  "language_info": {
   "codemirror_mode": {
    "name": "ipython",
    "version": 3
   },
   "file_extension": ".py",
   "mimetype": "text/x-python",
   "name": "python",
   "nbconvert_exporter": "python",
   "pygments_lexer": "ipython3",
   "version": "3.8.2"
  }
 },
 "nbformat": 4,
 "nbformat_minor": 4
}
