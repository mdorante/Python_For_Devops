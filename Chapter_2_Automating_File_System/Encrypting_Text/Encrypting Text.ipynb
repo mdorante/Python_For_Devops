{
 "cells": [
  {
   "cell_type": "markdown",
   "metadata": {},
   "source": [
    "There will be many times where you will need to encrypt text for security.\n",
    "\n",
    "In addition to Python's default ```hashlib``` package, there's a widely-used package called ```cryptography```.\n",
    "\n",
    "Let's check them out"
   ]
  },
  {
   "cell_type": "markdown",
   "metadata": {},
   "source": [
    "## Hashlib\n",
    "\n",
    "Passwords must be stored encrypted. What's normally used for this is a one-way function that encrypts the password into a bit string, which is very hard to reverse engineer. These are called *hash functions*.\n",
    "\n",
    "```hashlib``` includes secure algorithms such as:\n",
    "- SHA1\n",
    "- SHA224\n",
    "- SHA512\n",
    "- MD5\n",
    "\n",
    "Let's look at how you would hash a password using the MD5 algorithm:"
   ]
  },
  {
   "cell_type": "code",
   "execution_count": 1,
   "metadata": {},
   "outputs": [
    {
     "data": {
      "text/plain": [
       "b'\\xbb\\xb2\\xc5\\xe6=.\\xf8\\x93\\x10o\\xdd\\ryz\\xa9z'"
      ]
     },
     "execution_count": 1,
     "metadata": {},
     "output_type": "execute_result"
    }
   ],
   "source": [
    "import hashlib\n",
    "\n",
    "password = 'supersecretpassword'\n",
    "\n",
    "# The first thing we have to do is turn the string into a binary string with the encode() method\n",
    "bpassword = password.encode()\n",
    "\n",
    "m = hashlib.md5()\n",
    "\n",
    "m.update(bpassword)\n",
    "\n",
    "m.digest()"
   ]
  },
  {
   "cell_type": "markdown",
   "metadata": {},
   "source": [
    "***NOTE***: This is not only useful for passwords, you can hash the entire contents of a file if needed."
   ]
  },
  {
   "cell_type": "markdown",
   "metadata": {},
   "source": [
    "# Cryptography\n",
    "\n",
    "```pip install cryptography```\n",
    "\n",
    "A popular third party module for encryption.\n",
    "\n",
    "*Symmetric Key Encryption* is a group of encryption algorithms based on shared keys, this is similar to a password that's used to encrypt and decrypt text.\n",
    "\n",
    "These algorothsm include:\n",
    "- Advanced Encryption Algorithm (AES)\n",
    "- Blowfish\n",
    "- Data Encryption Standard (DES)\n",
    "- Serpent\n",
    "- Twofish\n",
    "\n",
    "As compared to *Asymmetric* encryption, *Symmetric* encryption is faster and more straightforward, but you have to deal with the hassle of sharing the key between creator and reader.\n",
    "\n",
    "```Fernet``` is an implementation of the popular AES algorithm"
   ]
  },
  {
   "cell_type": "code",
   "execution_count": 2,
   "metadata": {},
   "outputs": [],
   "source": [
    "# First, you need to generate a key\n",
    "from cryptography.fernet import Fernet\n",
    "\n",
    "key = Fernet.generate_key()"
   ]
  },
  {
   "cell_type": "code",
   "execution_count": 3,
   "metadata": {},
   "outputs": [
    {
     "data": {
      "text/plain": [
       "b'y2ALGlaGdQyOAk5EU9QvIklJTn4eggGZ87G_LTBYkOI='"
      ]
     },
     "execution_count": 3,
     "metadata": {},
     "output_type": "execute_result"
    }
   ],
   "source": [
    "key"
   ]
  },
  {
   "cell_type": "markdown",
   "metadata": {},
   "source": [
    "You need to store this key securely, because you will need it to decrypt your text. \n",
    "\n",
    "***NOTE***: If you decide to store it in a file, use the ```binary``` data type."
   ]
  },
  {
   "cell_type": "code",
   "execution_count": 4,
   "metadata": {},
   "outputs": [],
   "source": [
    "with open('encryption_key', 'wb') as file:\n",
    "    file.write(key)"
   ]
  },
  {
   "cell_type": "code",
   "execution_count": 5,
   "metadata": {},
   "outputs": [
    {
     "name": "stdout",
     "output_type": "stream",
     "text": [
      "ls: cannot access '-': No such file or directory\r\n",
      "ls: cannot access 'l': No such file or directory\r\n"
     ]
    }
   ],
   "source": [
    "!ls - l"
   ]
  },
  {
   "cell_type": "code",
   "execution_count": 6,
   "metadata": {},
   "outputs": [],
   "source": [
    "with open('encryption_key', 'rb') as key:\n",
    "    readable_key = key.read()\n",
    "    # Create a Fernet object for encrypting your data\n",
    "    encryptor = Fernet(readable_key)\n",
    "\n",
    "    message_to_encrypt = b\"Super mega secret text\"\n",
    "\n",
    "    encrypted_message = encryptor.encrypt(message_to_encrypt)"
   ]
  },
  {
   "cell_type": "code",
   "execution_count": 7,
   "metadata": {},
   "outputs": [
    {
     "data": {
      "text/plain": [
       "b'gAAAAABexwIwnEdgNDrgmji6ODsu5tjT7rMurO__SWYmorPDXWilCtLrRtvW3fGsIOTyzU0k2ZbGN8K3-Rr-Ug9UY1StMqQ8cQF1kfeIMqo3KLb0D44g_X8='"
      ]
     },
     "execution_count": 7,
     "metadata": {},
     "output_type": "execute_result"
    }
   ],
   "source": [
    "encrypted_message"
   ]
  },
  {
   "cell_type": "code",
   "execution_count": 8,
   "metadata": {},
   "outputs": [
    {
     "data": {
      "text/plain": [
       "b'Super mega secret text'"
      ]
     },
     "execution_count": 8,
     "metadata": {},
     "output_type": "execute_result"
    }
   ],
   "source": [
    "# You can decrypt the data using a Fernet object with the same key\n",
    "decrypter = Fernet(readable_key)\n",
    "\n",
    "decrypter.decrypt(encrypted_message)"
   ]
  },
  {
   "cell_type": "markdown",
   "metadata": {},
   "source": [
    "*Asymmetric* encryption uses a pair of keys, a public and a private key.\n",
    "\n",
    "The *public* key is designed to be widely shared, while the *private* key should only be held by the creator.\n",
    "\n",
    "The only way you can read files encrypted by the *public* key, is by decrypting them with the *private* key.\n",
    "\n",
    "This style is widely used, for example the SSH key pairs you use to communicate with GitHub.\n",
    "\n",
    "A very popular *asymmetric* encryption method is RSA, and ```cryptography``` offers the possibility to create key pairs."
   ]
  },
  {
   "cell_type": "code",
   "execution_count": 9,
   "metadata": {},
   "outputs": [],
   "source": [
    "from cryptography.hazmat.backends import default_backend\n",
    "from cryptography.hazmat.primitives.asymmetric import rsa\n",
    "\n",
    "private_key = rsa.generate_private_key(\n",
    "    public_exponent=65537, key_size=4096, backend=default_backend())"
   ]
  },
  {
   "cell_type": "code",
   "execution_count": 10,
   "metadata": {},
   "outputs": [
    {
     "data": {
      "text/plain": [
       "<cryptography.hazmat.backends.openssl.rsa._RSAPrivateKey at 0x7fde483931f0>"
      ]
     },
     "execution_count": 10,
     "metadata": {},
     "output_type": "execute_result"
    }
   ],
   "source": [
    "private_key"
   ]
  },
  {
   "cell_type": "code",
   "execution_count": 11,
   "metadata": {},
   "outputs": [],
   "source": [
    "public_key = private_key.public_key()"
   ]
  },
  {
   "cell_type": "code",
   "execution_count": 12,
   "metadata": {},
   "outputs": [
    {
     "data": {
      "text/plain": [
       "<cryptography.hazmat.backends.openssl.rsa._RSAPublicKey at 0x7fde484d8070>"
      ]
     },
     "execution_count": 12,
     "metadata": {},
     "output_type": "execute_result"
    }
   ],
   "source": [
    "public_key"
   ]
  },
  {
   "cell_type": "markdown",
   "metadata": {},
   "source": [
    "You can now use the public key to encrypt"
   ]
  },
  {
   "cell_type": "code",
   "execution_count": 13,
   "metadata": {},
   "outputs": [],
   "source": [
    "message = b\"super secret stuff that needs encryption\""
   ]
  },
  {
   "cell_type": "code",
   "execution_count": 14,
   "metadata": {},
   "outputs": [],
   "source": [
    "from cryptography.hazmat.primitives.asymmetric import padding\n",
    "from cryptography.hazmat.primitives import hashes\n",
    "\n",
    "encrypted_message = public_key.encrypt(\n",
    "    message,\n",
    "    padding.OAEP(\n",
    "        mgf=padding.MGF1(algorithm=hashes.SHA256()),\n",
    "        algorithm=hashes.SHA256(),\n",
    "        label=None))"
   ]
  },
  {
   "cell_type": "code",
   "execution_count": 15,
   "metadata": {},
   "outputs": [],
   "source": [
    "# Use the private key to decrypt the message\n",
    "decrypted_message = private_key.decrypt(encrypted_message,\n",
    "                                        padding.OAEP(\n",
    "                                            mgf=padding.MGF1(\n",
    "                                                algorithm=hashes.SHA256()),\n",
    "                                            algorithm=hashes.SHA256(),\n",
    "                                            label=None))"
   ]
  },
  {
   "cell_type": "code",
   "execution_count": 16,
   "metadata": {},
   "outputs": [
    {
     "data": {
      "text/plain": [
       "b'super secret stuff that needs encryption'"
      ]
     },
     "execution_count": 16,
     "metadata": {},
     "output_type": "execute_result"
    }
   ],
   "source": [
    "decrypted_message"
   ]
  }
 ],
 "metadata": {
  "kernelspec": {
   "display_name": "Python 3.8.2 64-bit",
   "language": "python",
   "name": "python38264bitfe4da4268adf4c61ba769535b95bf150"
  },
  "language_info": {
   "codemirror_mode": {
    "name": "ipython",
    "version": 3
   },
   "file_extension": ".py",
   "mimetype": "text/x-python",
   "name": "python",
   "nbconvert_exporter": "python",
   "pygments_lexer": "ipython3",
   "version": "3.8.2"
  }
 },
 "nbformat": 4,
 "nbformat_minor": 4
}
