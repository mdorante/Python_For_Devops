{
 "cells": [
  {
   "cell_type": "markdown",
   "metadata": {},
   "source": [
    "The Apache HTTP server is a widely used open source web server.\n",
    "\n",
    "It can be configured to save log files in different formats, the most common format is the Common Log Format (CLF)\n",
    "\n",
    "It looks like this: \n",
    "```\n",
    "<IP Address> <Client ID> <User ID> <Time> <Request> <Status> <Size>\n",
    "```\n",
    "\n",
    "For example:\n",
    "```\n",
    "127.0.0.1 - swills [13/Nov/2019:14:43:30 -0800] \"GET /assets/234 HTTP/1.0\" 200 2326\n",
    "```"
   ]
  },
  {
   "cell_type": "code",
   "execution_count": 1,
   "metadata": {},
   "outputs": [
    {
     "data": {
      "text/plain": [
       "'127.0.0.1'"
      ]
     },
     "execution_count": 1,
     "metadata": {},
     "output_type": "execute_result"
    }
   ],
   "source": [
    "# Using the re module, we can use groups in order to work with sections of the log\n",
    "import re\n",
    "\n",
    "log_line = '127.0.0.1 - swills [13/Nov/2019:14:43:30 -0800] \"GET /assets/234 HTTP/1.0\" 200 2326'\n",
    "\n",
    "# Let's extract only the IP\n",
    "match = re.search(r'(?P<IP>\\d+\\.\\d+\\.\\d+\\.\\d+)', log_line)\n",
    "match.group('IP')"
   ]
  },
  {
   "cell_type": "code",
   "execution_count": 2,
   "metadata": {},
   "outputs": [
    {
     "data": {
      "text/plain": [
       "'13/Nov/2019:14:43:30 -0800'"
      ]
     },
     "execution_count": 2,
     "metadata": {},
     "output_type": "execute_result"
    }
   ],
   "source": [
    "# We can also use a group expression to get the time\n",
    "\n",
    "match_2 = re.search(r'\\[(?P<Time>\\d{2}/\\w{3}/\\d{4}:\\d{2}:\\d{2}:\\d{2}\\ -\\d{4})\\]', log_line)\n",
    "match_2.group('Time')"
   ]
  },
  {
   "cell_type": "code",
   "execution_count": 17,
   "metadata": {},
   "outputs": [],
   "source": [
    "# We can also grab multiple groups\n",
    "r = r'(?P<IP>\\d+\\.\\d+\\.\\d+\\.\\d+)'\n",
    "r += r' - (?P<Client>\\w+) '\n",
    "r += r'\\[(?P<Time>\\d{2}/\\w{3}/\\d{4}:\\d{2}:\\d{2}:\\d{2}\\ -\\d{4})\\]'\n",
    "r += r' \"(?P<Request>.+)\"'\n",
    "r += r' (?P<Status>\\d{3})'\n",
    "r += r' (?P<Size>\\d+)'\n",
    "\n",
    "m = re.search(r, log_line)"
   ]
  },
  {
   "cell_type": "code",
   "execution_count": 18,
   "metadata": {},
   "outputs": [
    {
     "data": {
      "text/plain": [
       "'127.0.0.1'"
      ]
     },
     "execution_count": 18,
     "metadata": {},
     "output_type": "execute_result"
    }
   ],
   "source": [
    "m.group('IP')"
   ]
  },
  {
   "cell_type": "code",
   "execution_count": 19,
   "metadata": {},
   "outputs": [
    {
     "data": {
      "text/plain": [
       "'swills'"
      ]
     },
     "execution_count": 19,
     "metadata": {},
     "output_type": "execute_result"
    }
   ],
   "source": [
    "m.group('Client')"
   ]
  },
  {
   "cell_type": "code",
   "execution_count": 20,
   "metadata": {},
   "outputs": [
    {
     "data": {
      "text/plain": [
       "'13/Nov/2019:14:43:30 -0800'"
      ]
     },
     "execution_count": 20,
     "metadata": {},
     "output_type": "execute_result"
    }
   ],
   "source": [
    "m.group('Time')"
   ]
  },
  {
   "cell_type": "code",
   "execution_count": 21,
   "metadata": {},
   "outputs": [
    {
     "data": {
      "text/plain": [
       "'GET /assets/234 HTTP/1.0'"
      ]
     },
     "execution_count": 21,
     "metadata": {},
     "output_type": "execute_result"
    }
   ],
   "source": [
    "m.group('Request')"
   ]
  },
  {
   "cell_type": "code",
   "execution_count": 22,
   "metadata": {},
   "outputs": [
    {
     "data": {
      "text/plain": [
       "'200'"
      ]
     },
     "execution_count": 22,
     "metadata": {},
     "output_type": "execute_result"
    }
   ],
   "source": [
    "m.group('Status')"
   ]
  },
  {
   "cell_type": "code",
   "execution_count": 23,
   "metadata": {},
   "outputs": [
    {
     "data": {
      "text/plain": [
       "'2326'"
      ]
     },
     "execution_count": 23,
     "metadata": {},
     "output_type": "execute_result"
    }
   ],
   "source": [
    "m.group('Size')"
   ]
  },
  {
   "cell_type": "markdown",
   "metadata": {},
   "source": [
    "We parsed a single line of a log, but let's say we want to search an entire log file for all the IP addresses of clients who did a GET request on the 8th of November 2019."
   ]
  },
  {
   "cell_type": "code",
   "execution_count": 27,
   "metadata": {},
   "outputs": [
    {
     "name": "stdout",
     "output_type": "stream",
     "text": [
      "192.168.54.8\n",
      "172.3.45.1\n",
      "17.21.50.11\n",
      "3.43.24.12\n"
     ]
    }
   ],
   "source": [
    "access_log = '''127.0.0.1 - swills [13/Nov/2019:14:43:30 -0800] \"GET /assets/234 HTTP/1.0\" 200 2326\n",
    "192.168.54.8 - dude [08/Nov/2019:15:21:34 -0800] \"GET /assets/234 HTTP/1.0\" 200 3627\n",
    "172.3.45.1 - otherDude [08/Nov/2019:16:31:54 -0800] \"GET /assets/234 HTTP/1.0\" 200 3457\n",
    "17.21.50.11 - anotherDude [08/Nov/2019:16:31:57 -0800] \"GET /assets/234 HTTP/1.0\" 200 2157\n",
    "3.43.24.12 - someDude [08/Nov/2019:17:01:07 -0800] \"GET /assets/234 HTTP/1.0\" 200 3239'''\n",
    "\n",
    "r = r'(?P<IP>\\d+\\.\\d+\\.\\d+\\.\\d+)'\n",
    "r += r' - (?P<Client>\\w+) '\n",
    "r += r'\\[(?P<Time>08/Nov/2019:\\d{2}:\\d{2}:\\d{2}\\ -\\d{4})\\]'\n",
    "r += r' (?P<Request>\"GET .+\")'\n",
    "\n",
    "matched = re.finditer(r, access_log)\n",
    "\n",
    "for match in matched:\n",
    "    print(match.group('IP'))"
   ]
  }
 ],
 "metadata": {
  "kernelspec": {
   "display_name": "Python 3.8.2 64-bit",
   "language": "python",
   "name": "python38264bitfe4da4268adf4c61ba769535b95bf150"
  },
  "language_info": {
   "codemirror_mode": {
    "name": "ipython",
    "version": 3
   },
   "file_extension": ".py",
   "mimetype": "text/x-python",
   "name": "python",
   "nbconvert_exporter": "python",
   "pygments_lexer": "ipython3",
   "version": "3.8.2"
  }
 },
 "nbformat": 4,
 "nbformat_minor": 4
}
