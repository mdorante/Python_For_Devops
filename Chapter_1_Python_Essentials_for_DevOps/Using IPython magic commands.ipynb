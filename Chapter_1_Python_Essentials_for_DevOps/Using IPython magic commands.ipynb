{
 "cells": [
  {
   "cell_type": "markdown",
   "metadata": {},
   "source": [
    "# Using IPython magic commands\n",
    "\n",
    "IPython has these so-called \"magic\" commands, which are basically super useful shortcuts."
   ]
  },
  {
   "cell_type": "markdown",
   "metadata": {},
   "source": [
    "For example, let's see an example of how to write an inline Bash script in IPython\n",
    "\n",
    "**NOTE**: This is just a simple script, but it could be a fully functional Bash script"
   ]
  },
  {
   "cell_type": "code",
   "execution_count": 2,
   "metadata": {},
   "outputs": [
    {
     "name": "stdout",
     "output_type": "stream",
     "text": [
      "Linux mx 4.19.0-6-amd64 #1 SMP Debian 4.19.67-2+deb10u2 (2019-11-11) x86_64 GNU/Linux\n"
     ]
    }
   ],
   "source": [
    "%%bash\n",
    "uname -a"
   ]
  },
  {
   "cell_type": "markdown",
   "metadata": {},
   "source": [
    "The ```%%writefile``` magic command is used for writing Bash or Python scripts and testing them on the fly."
   ]
  },
  {
   "cell_type": "code",
   "execution_count": 3,
   "metadata": {},
   "outputs": [
    {
     "name": "stdout",
     "output_type": "stream",
     "text": [
      "Writing print_time.py\n"
     ]
    }
   ],
   "source": [
    "%%writefile print_time.py\n",
    "#!/usr/bin/env python\n",
    "import datetime\n",
    "print(datetime.datetime.now().time())"
   ]
  },
  {
   "cell_type": "markdown",
   "metadata": {},
   "source": [
    "Note how there's now a ```print_time.py``` file in this directory, it was created by IPython"
   ]
  },
  {
   "cell_type": "code",
   "execution_count": 4,
   "metadata": {},
   "outputs": [
    {
     "name": "stdout",
     "output_type": "stream",
     "text": [
      "#!/usr/bin/env python\r\n",
      "import datetime\r\n",
      "print(datetime.datetime.now().time())\r\n"
     ]
    }
   ],
   "source": [
    "cat print_time.py"
   ]
  },
  {
   "cell_type": "code",
   "execution_count": 5,
   "metadata": {},
   "outputs": [
    {
     "name": "stdout",
     "output_type": "stream",
     "text": [
      "21:31:59.134031\r\n"
     ]
    }
   ],
   "source": [
    "!python print_time.py"
   ]
  },
  {
   "cell_type": "markdown",
   "metadata": {},
   "source": [
    "Another useful magic command: ```%who``` will show you what is loaded into memory"
   ]
  },
  {
   "cell_type": "code",
   "execution_count": 12,
   "metadata": {},
   "outputs": [],
   "source": [
    "ls = !ls -l"
   ]
  },
  {
   "cell_type": "code",
   "execution_count": 13,
   "metadata": {},
   "outputs": [
    {
     "data": {
      "text/plain": [
       "['total 68',\n",
       " '-rw-r--r-- 1 manuel manuel 1300 May  5 09:11 dicts.py',\n",
       " '-rw-r--r-- 1 manuel manuel  236 May  4 15:16 exceptions.py',\n",
       " '-rw-r--r-- 1 manuel manuel 2303 May  9 23:09 functions.py',\n",
       " '-rw-r--r-- 1 manuel manuel 1147 May 10 20:20 generators.py',\n",
       " '-rw-r--r-- 1 manuel manuel 1869 May  5 07:21 lists.py',\n",
       " '-rw-r--r-- 1 manuel manuel  609 May  4 15:08 loops.py',\n",
       " '-rw-r--r-- 1 manuel manuel  327 May  4 22:16 objects.py',\n",
       " '-rw-r--r-- 1 manuel manuel   76 May 10 21:30 print_time.py',\n",
       " 'drwxr-xr-x 2 manuel manuel 4096 May  4 18:46 __pycache__',\n",
       " '-rw-r--r-- 1 manuel manuel 5028 May 10 17:21 regular_expressions.py',\n",
       " '-rw-r--r-- 1 manuel manuel 1297 May  4 19:07 sequences.py',\n",
       " '-rw-r--r-- 1 manuel manuel 2319 May  5 08:49 strings.py',\n",
       " '-rw-r--r-- 1 manuel manuel 4559 May 10 21:35 Using IPython magic commands.ipynb',\n",
       " '-rw-r--r-- 1 manuel manuel 5117 May 10 21:20 Using IPython to run UNIX Shell commands.ipynb']"
      ]
     },
     "execution_count": 13,
     "metadata": {},
     "output_type": "execute_result"
    }
   ],
   "source": [
    "ls"
   ]
  },
  {
   "cell_type": "code",
   "execution_count": 14,
   "metadata": {},
   "outputs": [
    {
     "name": "stdout",
     "output_type": "stream",
     "text": [
      "ls\t \n"
     ]
    }
   ],
   "source": [
    "%who"
   ]
  }
 ],
 "metadata": {
  "kernelspec": {
   "display_name": "Python 3",
   "language": "python",
   "name": "python3"
  },
  "language_info": {
   "codemirror_mode": {
    "name": "ipython",
    "version": 3
   },
   "file_extension": ".py",
   "mimetype": "text/x-python",
   "name": "python",
   "nbconvert_exporter": "python",
   "pygments_lexer": "ipython3",
   "version": "3.8.2"
  }
 },
 "nbformat": 4,
 "nbformat_minor": 4
}
