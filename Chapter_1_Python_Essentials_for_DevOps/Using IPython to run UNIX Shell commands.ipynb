{
 "cells": [
  {
   "cell_type": "markdown",
   "metadata": {},
   "source": [
    "# Using IPython to run UNIX Shell commands\n",
    "\n",
    "This is one of the reasons why IPython is so useful for DevOps.\n",
    "\n",
    "IPython uses the '!' sign to identify shell commands"
   ]
  },
  {
   "cell_type": "code",
   "execution_count": 1,
   "metadata": {},
   "outputs": [
    {
     "name": "stdout",
     "output_type": "stream",
     "text": [
      "total 52\r\n",
      "-rw-r--r-- 1 manuel manuel 1300 May  5 09:11 dicts.py\r\n",
      "-rw-r--r-- 1 manuel manuel  236 May  4 15:16 exceptions.py\r\n",
      "-rw-r--r-- 1 manuel manuel 2303 May  9 23:09 functions.py\r\n",
      "-rw-r--r-- 1 manuel manuel 1147 May 10 20:20 generators.py\r\n",
      "-rw-r--r-- 1 manuel manuel 1869 May  5 07:21 lists.py\r\n",
      "-rw-r--r-- 1 manuel manuel  609 May  4 15:08 loops.py\r\n",
      "-rw-r--r-- 1 manuel manuel  327 May  4 22:16 objects.py\r\n",
      "drwxr-xr-x 2 manuel manuel 4096 May  4 18:46 __pycache__\r\n",
      "-rw-r--r-- 1 manuel manuel 5028 May 10 17:21 regular_expressions.py\r\n",
      "-rw-r--r-- 1 manuel manuel 1297 May  4 19:07 sequences.py\r\n",
      "-rw-r--r-- 1 manuel manuel 2319 May  5 08:49 strings.py\r\n",
      "-rw-r--r-- 1 manuel manuel   72 May 10 21:03 Untitled.ipynb\r\n"
     ]
    }
   ],
   "source": [
    "!ls -l"
   ]
  },
  {
   "cell_type": "markdown",
   "metadata": {},
   "source": [
    "Let's save the output of this command to a variable"
   ]
  },
  {
   "cell_type": "code",
   "execution_count": 2,
   "metadata": {},
   "outputs": [],
   "source": [
    "var_ls = !ls -l"
   ]
  },
  {
   "cell_type": "code",
   "execution_count": 3,
   "metadata": {},
   "outputs": [
    {
     "data": {
      "text/plain": [
       "IPython.utils.text.SList"
      ]
     },
     "execution_count": 3,
     "metadata": {},
     "output_type": "execute_result"
    }
   ],
   "source": [
    "type(var_ls)"
   ]
  },
  {
   "cell_type": "markdown",
   "metadata": {},
   "source": [
    "The SList data type converts a regular shell command into a variable with three main methods:\n",
    "- fields\n",
    "- grep\n",
    "- sort\n",
    "\n",
    "Let's take a look at the .sort() method, we'll turn the ```df``` command into a variable for this"
   ]
  },
  {
   "cell_type": "code",
   "execution_count": 4,
   "metadata": {},
   "outputs": [],
   "source": [
    "df = !df"
   ]
  },
  {
   "cell_type": "markdown",
   "metadata": {},
   "source": [
    "We'll use .sort() to sort the third column by size (remember that counting starts at 0)"
   ]
  },
  {
   "cell_type": "code",
   "execution_count": 10,
   "metadata": {},
   "outputs": [
    {
     "data": {
      "text/plain": [
       "['Filesystem     1K-blocks    Used Available Use% Mounted on',\n",
       " 'tmpfs             763568       0    763568   0% /sys/fs/cgroup',\n",
       " 'udev              730160       0    730160   0% /dev',\n",
       " 'tmpfs               5120       4      5116   1% /run/lock',\n",
       " 'tmpfs             152716    1040    151676   1% /run',\n",
       " 'tmpfs             763568  118016    645552  16% /dev/shm',\n",
       " '/dev/sda1       23574928 9567532  12786788  43% /']"
      ]
     },
     "execution_count": 10,
     "metadata": {},
     "output_type": "execute_result"
    }
   ],
   "source": [
    "df.sort(2, nums=True)"
   ]
  },
  {
   "cell_type": "markdown",
   "metadata": {},
   "source": [
    "Now let's take a look at SList and the .grep() method\n",
    "\n",
    "In this example, we're searching for commands with the word 'kill' in their name, in the /usr/bin/ directory"
   ]
  },
  {
   "cell_type": "code",
   "execution_count": 8,
   "metadata": {},
   "outputs": [],
   "source": [
    "ls_usr_bin = !ls -l /usr/bin/"
   ]
  },
  {
   "cell_type": "code",
   "execution_count": 9,
   "metadata": {
    "scrolled": true
   },
   "outputs": [
    {
     "data": {
      "text/plain": [
       "['-rwxr-xr-x 1 root root        26704 May 31  2018 kill',\n",
       " '-rwxr-xr-x 1 root root        32480 Sep 24  2018 killall',\n",
       " 'lrwxrwxrwx 1 root root           14 Feb 14  2019 pidof -> /sbin/killall5',\n",
       " 'lrwxrwxrwx 1 root root            5 May 31  2018 pkill -> pgrep',\n",
       " '-rwxr-xr-x 1 root root        26704 May 31  2018 skill',\n",
       " 'lrwxrwxrwx 1 root root            5 May 31  2018 snice -> skill',\n",
       " '-rwxr-xr-x 1 root root        14664 Mar 18  2018 xkill']"
      ]
     },
     "execution_count": 9,
     "metadata": {},
     "output_type": "execute_result"
    }
   ],
   "source": [
    "ls_usr_bin.grep('kill')"
   ]
  }
 ],
 "metadata": {
  "kernelspec": {
   "display_name": "Python 3",
   "language": "python",
   "name": "python3"
  },
  "language_info": {
   "codemirror_mode": {
    "name": "ipython",
    "version": 3
   },
   "file_extension": ".py",
   "mimetype": "text/x-python",
   "name": "python",
   "nbconvert_exporter": "python",
   "pygments_lexer": "ipython3",
   "version": "3.8.2"
  }
 },
 "nbformat": 4,
 "nbformat_minor": 4
}
